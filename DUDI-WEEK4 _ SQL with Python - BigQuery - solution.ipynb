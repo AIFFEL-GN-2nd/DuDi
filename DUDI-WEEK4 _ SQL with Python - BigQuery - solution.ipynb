{
 "cells": [
  {
   "cell_type": "markdown",
   "metadata": {
    "id": "R4Tk-F1W2Z9Z"
   },
   "source": [
    "## 학습목표\n",
    "- python을 이용하여 데이터베이스에 원하는 데이터를 읽어오고 이를 csv 파일로 저장할 수 있다.\n",
    "- pandas를 이용한 데이터 처리와 sql을 이용한 데이터 처리의 효율성을 비교한다."
   ]
  },
  {
   "cell_type": "code",
   "execution_count": null,
   "metadata": {
    "id": "_XBUtzpW2WNn"
   },
   "outputs": [],
   "source": [
    "!pip install pandas fiona shapely pyproj rtree geopandas"
   ]
  },
  {
   "cell_type": "code",
   "execution_count": null,
   "metadata": {
    "id": "Xc3MqCH-2cqk"
   },
   "outputs": [],
   "source": [
    "import pandas as pd\n",
    "import time\n",
    "import geopandas as gpd\n",
    "import folium\n",
    "import matplotlib.pyplot as plt"
   ]
  },
  {
   "cell_type": "markdown",
   "metadata": {
    "id": "VOYq420i2jrp"
   },
   "source": [
    "## 1. Python으로 BigQuery 읽어오기\n",
    "---"
   ]
  },
  {
   "cell_type": "markdown",
   "metadata": {
    "id": "j2wV448B2tqk"
   },
   "source": [
    "- select query 결과를 DataFrame로 만드는 방법"
   ]
  },
  {
   "cell_type": "code",
   "execution_count": null,
   "metadata": {
    "id": "3oPJ0LLI2d_u"
   },
   "outputs": [],
   "source": [
    "# google 계정 인증을 통하여 GDP의 접근 권한을 얻어 옵니다.\n",
    "from google.colab import auth\n",
    "auth.authenticate_user()"
   ]
  },
  {
   "cell_type": "code",
   "execution_count": null,
   "metadata": {
    "colab": {
     "base_uri": "https://localhost:8080/"
    },
    "executionInfo": {
     "elapsed": 303,
     "status": "ok",
     "timestamp": 1636497894275,
     "user": {
      "displayName": "정수희",
      "photoUrl": "https://lh3.googleusercontent.com/a/default-user=s64",
      "userId": "05838850196603126764"
     },
     "user_tz": -540
    },
    "id": "GSa_KEMR2f-H",
    "outputId": "a654e113-c01b-4e77-c366-26caa0eed366"
   },
   "outputs": [
    {
     "name": "stderr",
     "output_type": "stream",
     "text": [
      "WARNING:google.auth._default:No project ID could be determined. Consider running `gcloud config set project` or setting the GOOGLE_CLOUD_PROJECT environment variable\n"
     ]
    }
   ],
   "source": [
    "from google.cloud import bigquery\n",
    "\n",
    "# 프로젝트 id를 입력합니다.\n",
    "# 프로젝트 id는 GCP 콘솔(https://console.cloud.google.com/)에서 확인 가능합니다.\n",
    "# 이때, 프로젝트는 billing과 BigQuery가 활성활 되어 있어야 합니다.\n",
    "# - billing : https://cloud.google.com/billing/docs/how-to/modify-project?visit_id=637720949614431006-3922838519&rd=1#enable-billing\n",
    "# - bigquery : https://console.cloud.google.com/flows/enableapi?apiid=bigquer\n",
    "project_id = 'aiffel-dudi'\n",
    "client = bigquery.Client(project=project_id)"
   ]
  },
  {
   "cell_type": "code",
   "execution_count": null,
   "metadata": {
    "colab": {
     "base_uri": "https://localhost:8080/",
     "height": 609
    },
    "executionInfo": {
     "elapsed": 3084,
     "status": "ok",
     "timestamp": 1636497910024,
     "user": {
      "displayName": "정수희",
      "photoUrl": "https://lh3.googleusercontent.com/a/default-user=s64",
      "userId": "05838850196603126764"
     },
     "user_tz": -540
    },
    "id": "8pRdjRUH3WTg",
    "outputId": "f9710fe9-e48c-4b6b-c8a4-92c832007296"
   },
   "outputs": [
    {
     "data": {
      "text/html": [
       "<div>\n",
       "<style scoped>\n",
       "    .dataframe tbody tr th:only-of-type {\n",
       "        vertical-align: middle;\n",
       "    }\n",
       "\n",
       "    .dataframe tbody tr th {\n",
       "        vertical-align: top;\n",
       "    }\n",
       "\n",
       "    .dataframe thead th {\n",
       "        text-align: right;\n",
       "    }\n",
       "</style>\n",
       "<table border=\"1\" class=\"dataframe\">\n",
       "  <thead>\n",
       "    <tr style=\"text-align: right;\">\n",
       "      <th></th>\n",
       "      <th>vendor_id</th>\n",
       "      <th>pickup_datetime</th>\n",
       "      <th>dropoff_datetime</th>\n",
       "      <th>store_and_fwd_flag</th>\n",
       "      <th>rate_code</th>\n",
       "      <th>pickup_longitude</th>\n",
       "      <th>pickup_latitude</th>\n",
       "      <th>dropoff_longitude</th>\n",
       "      <th>dropoff_latitude</th>\n",
       "      <th>passenger_count</th>\n",
       "      <th>trip_distance</th>\n",
       "      <th>fare_amount</th>\n",
       "      <th>extra</th>\n",
       "      <th>mta_tax</th>\n",
       "      <th>tip_amount</th>\n",
       "      <th>tolls_amount</th>\n",
       "      <th>ehail_fee</th>\n",
       "      <th>total_amount</th>\n",
       "      <th>payment_type</th>\n",
       "      <th>distance_between_service</th>\n",
       "      <th>time_between_service</th>\n",
       "      <th>trip_type</th>\n",
       "      <th>imp_surcharge</th>\n",
       "      <th>dropoff_location_id</th>\n",
       "      <th>pickup_location_id</th>\n",
       "    </tr>\n",
       "  </thead>\n",
       "  <tbody>\n",
       "    <tr>\n",
       "      <th>0</th>\n",
       "      <td>2</td>\n",
       "      <td>2017-03-03 01:20:55</td>\n",
       "      <td>2017-03-03 01:32:05</td>\n",
       "      <td>N</td>\n",
       "      <td></td>\n",
       "      <td>None</td>\n",
       "      <td>None</td>\n",
       "      <td>None</td>\n",
       "      <td>None</td>\n",
       "      <td>1</td>\n",
       "      <td>None</td>\n",
       "      <td>-4.1E-8</td>\n",
       "      <td>None</td>\n",
       "      <td>None</td>\n",
       "      <td>None</td>\n",
       "      <td>None</td>\n",
       "      <td>None</td>\n",
       "      <td>None</td>\n",
       "      <td>1</td>\n",
       "      <td>None</td>\n",
       "      <td>None</td>\n",
       "      <td>1</td>\n",
       "      <td>None</td>\n",
       "      <td>173</td>\n",
       "      <td>82</td>\n",
       "    </tr>\n",
       "    <tr>\n",
       "      <th>1</th>\n",
       "      <td>2</td>\n",
       "      <td>2017-12-17 22:08:09</td>\n",
       "      <td>2017-12-17 22:09:32</td>\n",
       "      <td>N</td>\n",
       "      <td></td>\n",
       "      <td>None</td>\n",
       "      <td>None</td>\n",
       "      <td>None</td>\n",
       "      <td>None</td>\n",
       "      <td>1</td>\n",
       "      <td>None</td>\n",
       "      <td>None</td>\n",
       "      <td>None</td>\n",
       "      <td>None</td>\n",
       "      <td>None</td>\n",
       "      <td>None</td>\n",
       "      <td>None</td>\n",
       "      <td>None</td>\n",
       "      <td>2</td>\n",
       "      <td>None</td>\n",
       "      <td>None</td>\n",
       "      <td>1</td>\n",
       "      <td>None</td>\n",
       "      <td>256</td>\n",
       "      <td>256</td>\n",
       "    </tr>\n",
       "    <tr>\n",
       "      <th>2</th>\n",
       "      <td>1</td>\n",
       "      <td>2017-01-06 19:46:39</td>\n",
       "      <td>2017-01-06 19:49:36</td>\n",
       "      <td>N</td>\n",
       "      <td></td>\n",
       "      <td>None</td>\n",
       "      <td>None</td>\n",
       "      <td>None</td>\n",
       "      <td>None</td>\n",
       "      <td>1</td>\n",
       "      <td>None</td>\n",
       "      <td>None</td>\n",
       "      <td>None</td>\n",
       "      <td>None</td>\n",
       "      <td>None</td>\n",
       "      <td>None</td>\n",
       "      <td>None</td>\n",
       "      <td>None</td>\n",
       "      <td>1</td>\n",
       "      <td>None</td>\n",
       "      <td>None</td>\n",
       "      <td>1</td>\n",
       "      <td>None</td>\n",
       "      <td>225</td>\n",
       "      <td>61</td>\n",
       "    </tr>\n",
       "    <tr>\n",
       "      <th>3</th>\n",
       "      <td>2</td>\n",
       "      <td>2017-09-30 08:05:13</td>\n",
       "      <td>2017-09-30 08:32:16</td>\n",
       "      <td>N</td>\n",
       "      <td></td>\n",
       "      <td>None</td>\n",
       "      <td>None</td>\n",
       "      <td>None</td>\n",
       "      <td>None</td>\n",
       "      <td>1</td>\n",
       "      <td>None</td>\n",
       "      <td>-3.3E-8</td>\n",
       "      <td>None</td>\n",
       "      <td>None</td>\n",
       "      <td>None</td>\n",
       "      <td>None</td>\n",
       "      <td>None</td>\n",
       "      <td>None</td>\n",
       "      <td>1</td>\n",
       "      <td>None</td>\n",
       "      <td>None</td>\n",
       "      <td>1</td>\n",
       "      <td>None</td>\n",
       "      <td>143</td>\n",
       "      <td>243</td>\n",
       "    </tr>\n",
       "    <tr>\n",
       "      <th>4</th>\n",
       "      <td>2</td>\n",
       "      <td>2017-03-27 23:03:20</td>\n",
       "      <td>2017-03-27 23:26:17</td>\n",
       "      <td>N</td>\n",
       "      <td></td>\n",
       "      <td>None</td>\n",
       "      <td>None</td>\n",
       "      <td>None</td>\n",
       "      <td>None</td>\n",
       "      <td>1</td>\n",
       "      <td>None</td>\n",
       "      <td>None</td>\n",
       "      <td>None</td>\n",
       "      <td>None</td>\n",
       "      <td>None</td>\n",
       "      <td>None</td>\n",
       "      <td>None</td>\n",
       "      <td>None</td>\n",
       "      <td>2</td>\n",
       "      <td>None</td>\n",
       "      <td>None</td>\n",
       "      <td>1</td>\n",
       "      <td>None</td>\n",
       "      <td>76</td>\n",
       "      <td>97</td>\n",
       "    </tr>\n",
       "    <tr>\n",
       "      <th>...</th>\n",
       "      <td>...</td>\n",
       "      <td>...</td>\n",
       "      <td>...</td>\n",
       "      <td>...</td>\n",
       "      <td>...</td>\n",
       "      <td>...</td>\n",
       "      <td>...</td>\n",
       "      <td>...</td>\n",
       "      <td>...</td>\n",
       "      <td>...</td>\n",
       "      <td>...</td>\n",
       "      <td>...</td>\n",
       "      <td>...</td>\n",
       "      <td>...</td>\n",
       "      <td>...</td>\n",
       "      <td>...</td>\n",
       "      <td>...</td>\n",
       "      <td>...</td>\n",
       "      <td>...</td>\n",
       "      <td>...</td>\n",
       "      <td>...</td>\n",
       "      <td>...</td>\n",
       "      <td>...</td>\n",
       "      <td>...</td>\n",
       "      <td>...</td>\n",
       "    </tr>\n",
       "    <tr>\n",
       "      <th>95</th>\n",
       "      <td>2</td>\n",
       "      <td>2017-08-30 17:43:39</td>\n",
       "      <td>2017-08-30 17:53:48</td>\n",
       "      <td>N</td>\n",
       "      <td></td>\n",
       "      <td>None</td>\n",
       "      <td>None</td>\n",
       "      <td>None</td>\n",
       "      <td>None</td>\n",
       "      <td>1</td>\n",
       "      <td>None</td>\n",
       "      <td>None</td>\n",
       "      <td>None</td>\n",
       "      <td>None</td>\n",
       "      <td>None</td>\n",
       "      <td>None</td>\n",
       "      <td>None</td>\n",
       "      <td>None</td>\n",
       "      <td>1</td>\n",
       "      <td>None</td>\n",
       "      <td>None</td>\n",
       "      <td>1</td>\n",
       "      <td>None</td>\n",
       "      <td>239</td>\n",
       "      <td>43</td>\n",
       "    </tr>\n",
       "    <tr>\n",
       "      <th>96</th>\n",
       "      <td>2</td>\n",
       "      <td>2017-01-01 04:00:09</td>\n",
       "      <td>2017-01-01 04:18:28</td>\n",
       "      <td>N</td>\n",
       "      <td></td>\n",
       "      <td>None</td>\n",
       "      <td>None</td>\n",
       "      <td>None</td>\n",
       "      <td>None</td>\n",
       "      <td>1</td>\n",
       "      <td>None</td>\n",
       "      <td>None</td>\n",
       "      <td>None</td>\n",
       "      <td>None</td>\n",
       "      <td>None</td>\n",
       "      <td>None</td>\n",
       "      <td>None</td>\n",
       "      <td>None</td>\n",
       "      <td>1</td>\n",
       "      <td>None</td>\n",
       "      <td>None</td>\n",
       "      <td>1</td>\n",
       "      <td>None</td>\n",
       "      <td>61</td>\n",
       "      <td>33</td>\n",
       "    </tr>\n",
       "    <tr>\n",
       "      <th>97</th>\n",
       "      <td>2</td>\n",
       "      <td>2017-04-08 16:47:43</td>\n",
       "      <td>2017-04-08 17:03:10</td>\n",
       "      <td>N</td>\n",
       "      <td></td>\n",
       "      <td>None</td>\n",
       "      <td>None</td>\n",
       "      <td>None</td>\n",
       "      <td>None</td>\n",
       "      <td>1</td>\n",
       "      <td>None</td>\n",
       "      <td>None</td>\n",
       "      <td>None</td>\n",
       "      <td>None</td>\n",
       "      <td>None</td>\n",
       "      <td>None</td>\n",
       "      <td>None</td>\n",
       "      <td>None</td>\n",
       "      <td>2</td>\n",
       "      <td>None</td>\n",
       "      <td>None</td>\n",
       "      <td>1</td>\n",
       "      <td>None</td>\n",
       "      <td>179</td>\n",
       "      <td>260</td>\n",
       "    </tr>\n",
       "    <tr>\n",
       "      <th>98</th>\n",
       "      <td>2</td>\n",
       "      <td>2017-07-21 08:32:19</td>\n",
       "      <td>2017-07-21 08:48:07</td>\n",
       "      <td>N</td>\n",
       "      <td></td>\n",
       "      <td>None</td>\n",
       "      <td>None</td>\n",
       "      <td>None</td>\n",
       "      <td>None</td>\n",
       "      <td>1</td>\n",
       "      <td>None</td>\n",
       "      <td>-4.1E-8</td>\n",
       "      <td>None</td>\n",
       "      <td>None</td>\n",
       "      <td>None</td>\n",
       "      <td>None</td>\n",
       "      <td>None</td>\n",
       "      <td>-4.1E-8</td>\n",
       "      <td>2</td>\n",
       "      <td>None</td>\n",
       "      <td>None</td>\n",
       "      <td>2</td>\n",
       "      <td>None</td>\n",
       "      <td>250</td>\n",
       "      <td>18</td>\n",
       "    </tr>\n",
       "    <tr>\n",
       "      <th>99</th>\n",
       "      <td>2</td>\n",
       "      <td>2017-12-22 16:41:17</td>\n",
       "      <td>2017-12-22 16:54:37</td>\n",
       "      <td>N</td>\n",
       "      <td></td>\n",
       "      <td>None</td>\n",
       "      <td>None</td>\n",
       "      <td>None</td>\n",
       "      <td>None</td>\n",
       "      <td>1</td>\n",
       "      <td>None</td>\n",
       "      <td>None</td>\n",
       "      <td>None</td>\n",
       "      <td>None</td>\n",
       "      <td>None</td>\n",
       "      <td>None</td>\n",
       "      <td>None</td>\n",
       "      <td>None</td>\n",
       "      <td>2</td>\n",
       "      <td>None</td>\n",
       "      <td>None</td>\n",
       "      <td>1</td>\n",
       "      <td>None</td>\n",
       "      <td>173</td>\n",
       "      <td>56</td>\n",
       "    </tr>\n",
       "  </tbody>\n",
       "</table>\n",
       "<p>100 rows × 25 columns</p>\n",
       "</div>"
      ],
      "text/plain": [
       "   vendor_id     pickup_datetime  ... dropoff_location_id pickup_location_id\n",
       "0          2 2017-03-03 01:20:55  ...                 173                 82\n",
       "1          2 2017-12-17 22:08:09  ...                 256                256\n",
       "2          1 2017-01-06 19:46:39  ...                 225                 61\n",
       "3          2 2017-09-30 08:05:13  ...                 143                243\n",
       "4          2 2017-03-27 23:03:20  ...                  76                 97\n",
       "..       ...                 ...  ...                 ...                ...\n",
       "95         2 2017-08-30 17:43:39  ...                 239                 43\n",
       "96         2 2017-01-01 04:00:09  ...                  61                 33\n",
       "97         2 2017-04-08 16:47:43  ...                 179                260\n",
       "98         2 2017-07-21 08:32:19  ...                 250                 18\n",
       "99         2 2017-12-22 16:41:17  ...                 173                 56\n",
       "\n",
       "[100 rows x 25 columns]"
      ]
     },
     "execution_count": 11,
     "metadata": {},
     "output_type": "execute_result"
    }
   ],
   "source": [
    "# 쿼리의 결과를 `to_dataframe` 함수를 이용하여 간단하게 DataFrame으로 변환할 수 있다.\n",
    "res = client.query(\"\"\"\n",
    "SELECT * \n",
    "FROM `bigquery-public-data.new_york_taxi_trips.tlc_green_trips_2017`\n",
    "LIMIT 100\"\"\").to_dataframe()\n",
    "\n",
    "res"
   ]
  },
  {
   "cell_type": "markdown",
   "metadata": {
    "id": "6beSOhZx5UQR"
   },
   "source": [
    "## 2. 실습\n",
    "---\n",
    "\n",
    "비어져 있는 query를 작성하여 문제를 해결하여 봅시다. 실습 결과물로 완성된 DataFrame는 `이름_문제번호.csv` 형식으로 저장하여 노션에 올려주세요.\n",
    "\n",
    "DataFrame를 csv로 저장하는 방법에 대해서는 [이곳](https://pandas.pydata.org/docs/reference/api/pandas.DataFrame.to_csv.html)을 참고하여 주세요."
   ]
  },
  {
   "cell_type": "markdown",
   "metadata": {
    "id": "Ho_VVqTz5W-D"
   },
   "source": [
    "### 1) 실습 데이터\n",
    "\n",
    "실습에 사용되는 데이터베이스는 GCP public dataset(bigquery-public-data.new_york_taxi_trips.taxi_zone_geom)입니다. 학습과정에서 다뤄볼 수 있는 대표적인 대용량 데이터로 이번에 사용할 2017년도의 자료의 경우 약 18GB로 이루어져 있습니다.\n",
    "\n",
    "데이터베이스에서 사용할 3가지의 테이블은 다양한 column이 정의되어 있지만, 이번 실습에서 주요하여 보아야할 column은 다음과 같습니다.\n",
    "\n",
    "- tlc_green_trips_2017 : 2017년의 green cab 운행 정보\n",
    "\n",
    "| 필드 이름 | 유형 | 설명 |\n",
    "|:----------|:----:|:-----| \n",
    "| passenger_count | INTEGER | The number of passengers in the vehicle. This is a driver-entered value | \n",
    "| dropoff_location_id | STRING | |\n",
    "| pickup_location_id | STRING | |\n",
    "\n",
    "- tlc_yellow_trips_2017 : 2017년의 yellow cab 운행 정보\n",
    "\n",
    "| 필드 이름 | 유형 | 설명 |\n",
    "|:----------|:----:|:-----| \n",
    "| passenger_count | INTEGER | The number of passengers in the vehicle. This is a driver-entered value | \n",
    "| dropoff_location_id | STRING | |\n",
    "| pickup_location_id | STRING | |\n",
    "\n",
    "\n",
    "- taxi_zone_geom : tlc_green_trips_2017와 tlc_yellow_trips_2017에 나타나는 구역(pickup_location_id, dropoff_location_id) 정보\n",
    "\n",
    "| 필드 이름 | 유형 | 설명 |\n",
    "|:----------|:----:|:-----| \n",
    "| zone_id | STRING | Unique ID number of each taxi zone. <br>Corresponds with the pickup_location_id and dropoff_location_id in each of the trips tables\t | \n",
    "| drozone_namepoff_location_id | STRING | Full text name of the taxi zone\t |\n",
    "| borough | STRING | Borough containing the taxi zone |\n",
    "| zone_geom | GEOGRAPHY\t| Geometric outline that defines the taxi zone suitable for GIS analysis. |\n",
    "\n",
    "\n",
    "문제풀이의 기본 요구사항은 green cab와 yellow cab에 대한 정보를 모두 출력하는 것이나, 까다로운 부분이 존재하기 때문에 `yellow cab`에 대해서만 진행하여도 무관합니다."
   ]
  },
  {
   "cell_type": "markdown",
   "metadata": {
    "id": "W8TEhS5j9R_f"
   },
   "source": [
    "### 2) 사람들이 가장 택시를 많이 타는 곳 top 100은?\n",
    "- 출력 column : zone_id, zone_name, borough, cnt, zone_geom\n",
    "    - zone_id : 구역의 id\n",
    "    - zone_name : 구역이 이름\n",
    "    - borough : 구역의 속하는 지역\n",
    "    - cnt : 해당 구역에서 출발한 trip의 수\n",
    "    - zone_geom : 구역의 geometry 정보"
   ]
  },
  {
   "cell_type": "code",
   "execution_count": null,
   "metadata": {
    "id": "hxLbiQOB4Ftv"
   },
   "outputs": [],
   "source": [
    "def logging_time(original_fn):\n",
    "    def wrapper_fn(*args, **kwargs):\n",
    "        start_time = time.time()\n",
    "        result = original_fn(*args, **kwargs)\n",
    "        end_time = time.time()\n",
    "        print(\"WorkingTime[{}]: {} sec\".format(original_fn.__name__, end_time-start_time))\n",
    "        return result\n",
    "    return wrapper_fn"
   ]
  },
  {
   "cell_type": "code",
   "execution_count": null,
   "metadata": {
    "id": "x7EvscVS9TnG"
   },
   "outputs": [],
   "source": [
    "def execute_query(q):\n",
    "    \"\"\"\n",
    "    query를 실행시키고 그 결과를 pnadas.DataFrame에 담아 반환합나다.\n",
    "    \"\"\"\n",
    "    return client.query(q).to_dataframe()"
   ]
  },
  {
   "cell_type": "code",
   "execution_count": null,
   "metadata": {
    "id": "P5xVA2m59ar8"
   },
   "outputs": [],
   "source": [
    "@logging_time\n",
    "def get_top100_zone(target):\n",
    "    \"\"\"\n",
    "    db에서 테이블의 모든 정보를 가져 온 후, \n",
    "    target의 등장 빈도가 가장 높은 100개의 tuple를 반환합니다.\n",
    "    이때, 반환되는 tuple의 정보는 zone_id, zone_name, borough, cnt, zone_geom 입니다.\n",
    "    \"\"\"\n",
    "    # 1. 두개 table 정보를 모두 읽어 dataframe로 할당한다\n",
    "    print('load taix trip data...')\n",
    "    taxi_trips_df = execute_query(f\"\"\"\n",
    "    select pickup_datetime, pickup_location_id, dropoff_location_id\n",
    "    from `bigquery-public-data.new_york_taxi_trips.tlc_yellow_trips_2017`\n",
    "    \"\"\")\n",
    "    # display(taxi_trips_df.info())\n",
    "\n",
    "    print('load geometry data...')\n",
    "    taxi_zone_geom_df = execute_query(\"select * FROM `bigquery-public-data.new_york_taxi_trips.taxi_zone_geo`\")\n",
    "    # display(taxi_zone_geom_df.info())\n",
    "    \n",
    "    # 2. taxi_trips_df를 target을 기준으로 \n",
    "    #    grouping하여 target별 column 수를 계산한다.\n",
    "    #    이때, pickup_datetime을 사용한 이유는 결측값이 없는 임의의 column을 선정하였기 때문이다.\n",
    "    top100 = taxi_trips_df[['pickup_datetime', target]].groupby(by=[target]) # target를 기준으로 그룹화\n",
    "    top100 = top100.count()  # aggrigation func로 count 사용\n",
    "    top100 = top100.sort_values(by='pickup_datetime', ascending=False) # count 정보를 기준으로 내림차순\n",
    "    top100 = top100.head(100) # 상위 10개만을 추출\n",
    "    top100 = top100.reset_index() # index로 되어 있는 target를 column으로 변환\n",
    "    top100 = top100.rename(columns={'index':target, 'pickup_datetime':'cnt'}) # column 이름을 변경, index → target, pickup_datetime → cnt\n",
    "    display(top100)\n",
    "    \n",
    "    # 3. taxi_zone_geom_df와 top10을 merge\n",
    "    #    merge 기준은 taxi_zone_geom_df.zone_id와 top100.target이다.\n",
    "    #    https://pandas.pydata.org/pandas-docs/stable/reference/api/pandas.merge.html\n",
    "    res = top100.merge(taxi_zone_geom_df,\n",
    "                      how='inner',\n",
    "                      left_on=target,\n",
    "                      right_on='zone_id')\n",
    "    res = res[['zone_id', 'zone_name', 'borough', 'cnt', 'zone_geom']]\n",
    "    res.dropna(inplace=True)\n",
    "    # display(res)\n",
    "    \n",
    "    return res"
   ]
  },
  {
   "cell_type": "code",
   "execution_count": null,
   "metadata": {
    "colab": {
     "base_uri": "https://localhost:8080/",
     "height": 430
    },
    "executionInfo": {
     "elapsed": 27414,
     "status": "error",
     "timestamp": 1636500568305,
     "user": {
      "displayName": "정수희",
      "photoUrl": "https://lh3.googleusercontent.com/a/default-user=s64",
      "userId": "05838850196603126764"
     },
     "user_tz": -540
    },
    "id": "D_ygiGAm-mCA",
    "outputId": "71a9f79d-fd49-4f42-878c-ddb2677a8a18"
   },
   "outputs": [
    {
     "name": "stdout",
     "output_type": "stream",
     "text": [
      "load taix trip data...\n"
     ]
    },
    {
     "name": "stderr",
     "output_type": "stream",
     "text": [
      "ERROR:root:An unexpected error occurred while tokenizing input\n",
      "The following traceback may be corrupted or invalid\n",
      "The error message is: ('EOF in multi-line string', (1, 4))\n",
      "\n"
     ]
    },
    {
     "ename": "KeyboardInterrupt",
     "evalue": "ignored",
     "output_type": "error",
     "traceback": [
      "\u001b[0;31m---------------------------------------------------------------------------\u001b[0m",
      "\u001b[0;31mKeyboardInterrupt\u001b[0m                         Traceback (most recent call last)",
      "\u001b[0;32m<ipython-input-17-3adc29c9e1a9>\u001b[0m in \u001b[0;36m<module>\u001b[0;34m()\u001b[0m\n\u001b[0;32m----> 1\u001b[0;31m \u001b[0mres\u001b[0m \u001b[0;34m=\u001b[0m \u001b[0mget_top100_zone\u001b[0m\u001b[0;34m(\u001b[0m\u001b[0;34m'pickup_location_id'\u001b[0m\u001b[0;34m)\u001b[0m\u001b[0;34m\u001b[0m\u001b[0;34m\u001b[0m\u001b[0m\n\u001b[0m\u001b[1;32m      2\u001b[0m \u001b[0mres\u001b[0m\u001b[0;34m\u001b[0m\u001b[0;34m\u001b[0m\u001b[0m\n",
      "\u001b[0;32m<ipython-input-12-ed53e914bef0>\u001b[0m in \u001b[0;36mwrapper_fn\u001b[0;34m(*args, **kwargs)\u001b[0m\n\u001b[1;32m      2\u001b[0m     \u001b[0;32mdef\u001b[0m \u001b[0mwrapper_fn\u001b[0m\u001b[0;34m(\u001b[0m\u001b[0;34m*\u001b[0m\u001b[0margs\u001b[0m\u001b[0;34m,\u001b[0m \u001b[0;34m**\u001b[0m\u001b[0mkwargs\u001b[0m\u001b[0;34m)\u001b[0m\u001b[0;34m:\u001b[0m\u001b[0;34m\u001b[0m\u001b[0;34m\u001b[0m\u001b[0m\n\u001b[1;32m      3\u001b[0m         \u001b[0mstart_time\u001b[0m \u001b[0;34m=\u001b[0m \u001b[0mtime\u001b[0m\u001b[0;34m.\u001b[0m\u001b[0mtime\u001b[0m\u001b[0;34m(\u001b[0m\u001b[0;34m)\u001b[0m\u001b[0;34m\u001b[0m\u001b[0;34m\u001b[0m\u001b[0m\n\u001b[0;32m----> 4\u001b[0;31m         \u001b[0mresult\u001b[0m \u001b[0;34m=\u001b[0m \u001b[0moriginal_fn\u001b[0m\u001b[0;34m(\u001b[0m\u001b[0;34m*\u001b[0m\u001b[0margs\u001b[0m\u001b[0;34m,\u001b[0m \u001b[0;34m**\u001b[0m\u001b[0mkwargs\u001b[0m\u001b[0;34m)\u001b[0m\u001b[0;34m\u001b[0m\u001b[0;34m\u001b[0m\u001b[0m\n\u001b[0m\u001b[1;32m      5\u001b[0m         \u001b[0mend_time\u001b[0m \u001b[0;34m=\u001b[0m \u001b[0mtime\u001b[0m\u001b[0;34m.\u001b[0m\u001b[0mtime\u001b[0m\u001b[0;34m(\u001b[0m\u001b[0;34m)\u001b[0m\u001b[0;34m\u001b[0m\u001b[0;34m\u001b[0m\u001b[0m\n\u001b[1;32m      6\u001b[0m         \u001b[0mprint\u001b[0m\u001b[0;34m(\u001b[0m\u001b[0;34m\"WorkingTime[{}]: {} sec\"\u001b[0m\u001b[0;34m.\u001b[0m\u001b[0mformat\u001b[0m\u001b[0;34m(\u001b[0m\u001b[0moriginal_fn\u001b[0m\u001b[0;34m.\u001b[0m\u001b[0m__name__\u001b[0m\u001b[0;34m,\u001b[0m \u001b[0mend_time\u001b[0m\u001b[0;34m-\u001b[0m\u001b[0mstart_time\u001b[0m\u001b[0;34m)\u001b[0m\u001b[0;34m)\u001b[0m\u001b[0;34m\u001b[0m\u001b[0;34m\u001b[0m\u001b[0m\n",
      "\u001b[0;32m<ipython-input-16-a1868e19bce1>\u001b[0m in \u001b[0;36mget_top100_zone\u001b[0;34m(target)\u001b[0m\n\u001b[1;32m     11\u001b[0m     \u001b[0mselect\u001b[0m \u001b[0mpickup_datetime\u001b[0m\u001b[0;34m,\u001b[0m \u001b[0mpickup_location_id\u001b[0m\u001b[0;34m,\u001b[0m \u001b[0mdropoff_location_id\u001b[0m\u001b[0;34m,\u001b[0m \u001b[0mpayment_type\u001b[0m\u001b[0;34m\u001b[0m\u001b[0;34m\u001b[0m\u001b[0m\n\u001b[1;32m     12\u001b[0m     \u001b[0;32mfrom\u001b[0m\u001b[0;31m \u001b[0m\u001b[0;31m`\u001b[0m\u001b[0mbigquery\u001b[0m\u001b[0;34m-\u001b[0m\u001b[0mpublic\u001b[0m\u001b[0;34m-\u001b[0m\u001b[0mdata\u001b[0m\u001b[0;34m.\u001b[0m\u001b[0mnew_york_taxi_trips\u001b[0m\u001b[0;34m.\u001b[0m\u001b[0mtlc_yellow_trips_2017\u001b[0m\u001b[0;31m`\u001b[0m\u001b[0;34m\u001b[0m\u001b[0;34m\u001b[0m\u001b[0m\n\u001b[0;32m---> 13\u001b[0;31m     \"\"\")\n\u001b[0m\u001b[1;32m     14\u001b[0m     \u001b[0;31m# display(taxi_trips_df.info())\u001b[0m\u001b[0;34m\u001b[0m\u001b[0;34m\u001b[0m\u001b[0;34m\u001b[0m\u001b[0m\n\u001b[1;32m     15\u001b[0m \u001b[0;34m\u001b[0m\u001b[0m\n",
      "\u001b[0;32m<ipython-input-13-acc40e956290>\u001b[0m in \u001b[0;36mexecute_query\u001b[0;34m(q)\u001b[0m\n\u001b[1;32m      3\u001b[0m     \u001b[0mquery를\u001b[0m \u001b[0m실행시키고\u001b[0m \u001b[0m그\u001b[0m \u001b[0m결과를\u001b[0m \u001b[0mpnadas\u001b[0m\u001b[0;34m.\u001b[0m\u001b[0mDataFrame에\u001b[0m \u001b[0m담아\u001b[0m \u001b[0m반환합나다\u001b[0m\u001b[0;34m.\u001b[0m\u001b[0;34m\u001b[0m\u001b[0;34m\u001b[0m\u001b[0m\n\u001b[1;32m      4\u001b[0m     \"\"\"\n\u001b[0;32m----> 5\u001b[0;31m     \u001b[0;32mreturn\u001b[0m \u001b[0mclient\u001b[0m\u001b[0;34m.\u001b[0m\u001b[0mquery\u001b[0m\u001b[0;34m(\u001b[0m\u001b[0mq\u001b[0m\u001b[0;34m)\u001b[0m\u001b[0;34m.\u001b[0m\u001b[0mto_dataframe\u001b[0m\u001b[0;34m(\u001b[0m\u001b[0;34m)\u001b[0m\u001b[0;34m\u001b[0m\u001b[0;34m\u001b[0m\u001b[0m\n\u001b[0m",
      "\u001b[0;32m/usr/local/lib/python3.7/dist-packages/google/cloud/bigquery/job.py\u001b[0m in \u001b[0;36mto_dataframe\u001b[0;34m(self, bqstorage_client, dtypes, progress_bar_type)\u001b[0m\n\u001b[1;32m   3106\u001b[0m             \u001b[0mbqstorage_client\u001b[0m\u001b[0;34m=\u001b[0m\u001b[0mbqstorage_client\u001b[0m\u001b[0;34m,\u001b[0m\u001b[0;34m\u001b[0m\u001b[0;34m\u001b[0m\u001b[0m\n\u001b[1;32m   3107\u001b[0m             \u001b[0mdtypes\u001b[0m\u001b[0;34m=\u001b[0m\u001b[0mdtypes\u001b[0m\u001b[0;34m,\u001b[0m\u001b[0;34m\u001b[0m\u001b[0;34m\u001b[0m\u001b[0m\n\u001b[0;32m-> 3108\u001b[0;31m             \u001b[0mprogress_bar_type\u001b[0m\u001b[0;34m=\u001b[0m\u001b[0mprogress_bar_type\u001b[0m\u001b[0;34m,\u001b[0m\u001b[0;34m\u001b[0m\u001b[0;34m\u001b[0m\u001b[0m\n\u001b[0m\u001b[1;32m   3109\u001b[0m         )\n\u001b[1;32m   3110\u001b[0m \u001b[0;34m\u001b[0m\u001b[0m\n",
      "\u001b[0;32m/usr/local/lib/python3.7/dist-packages/google/cloud/bigquery/table.py\u001b[0m in \u001b[0;36mto_dataframe\u001b[0;34m(self, bqstorage_client, dtypes, progress_bar_type)\u001b[0m\n\u001b[1;32m   1580\u001b[0m         \u001b[0mframes\u001b[0m \u001b[0;34m=\u001b[0m \u001b[0;34m[\u001b[0m\u001b[0;34m]\u001b[0m\u001b[0;34m\u001b[0m\u001b[0;34m\u001b[0m\u001b[0m\n\u001b[1;32m   1581\u001b[0m         for frame in self._to_dataframe_iterable(\n\u001b[0;32m-> 1582\u001b[0;31m             \u001b[0mbqstorage_client\u001b[0m\u001b[0;34m=\u001b[0m\u001b[0mbqstorage_client\u001b[0m\u001b[0;34m,\u001b[0m \u001b[0mdtypes\u001b[0m\u001b[0;34m=\u001b[0m\u001b[0mdtypes\u001b[0m\u001b[0;34m\u001b[0m\u001b[0;34m\u001b[0m\u001b[0m\n\u001b[0m\u001b[1;32m   1583\u001b[0m         ):\n\u001b[1;32m   1584\u001b[0m             \u001b[0mframes\u001b[0m\u001b[0;34m.\u001b[0m\u001b[0mappend\u001b[0m\u001b[0;34m(\u001b[0m\u001b[0mframe\u001b[0m\u001b[0;34m)\u001b[0m\u001b[0;34m\u001b[0m\u001b[0;34m\u001b[0m\u001b[0m\n",
      "\u001b[0;32m/usr/local/lib/python3.7/dist-packages/google/cloud/bigquery/table.py\u001b[0m in \u001b[0;36m_to_page_iterable\u001b[0;34m(self, bqstorage_download, tabledata_list_download, bqstorage_client)\u001b[0m\n\u001b[1;32m   1377\u001b[0m             )\n\u001b[1;32m   1378\u001b[0m         )\n\u001b[0;32m-> 1379\u001b[0;31m         \u001b[0;32mfor\u001b[0m \u001b[0mitem\u001b[0m \u001b[0;32min\u001b[0m \u001b[0mtabledata_list_download\u001b[0m\u001b[0;34m(\u001b[0m\u001b[0;34m)\u001b[0m\u001b[0;34m:\u001b[0m\u001b[0;34m\u001b[0m\u001b[0;34m\u001b[0m\u001b[0m\n\u001b[0m\u001b[1;32m   1380\u001b[0m             \u001b[0;32myield\u001b[0m \u001b[0mitem\u001b[0m\u001b[0;34m\u001b[0m\u001b[0;34m\u001b[0m\u001b[0m\n\u001b[1;32m   1381\u001b[0m \u001b[0;34m\u001b[0m\u001b[0m\n",
      "\u001b[0;32m/usr/local/lib/python3.7/dist-packages/google/cloud/bigquery/_pandas_helpers.py\u001b[0m in \u001b[0;36mdownload_dataframe_tabledata_list\u001b[0;34m(pages, schema, dtypes)\u001b[0m\n\u001b[1;32m    412\u001b[0m     \u001b[0mcolumn_names\u001b[0m \u001b[0;34m=\u001b[0m \u001b[0;34m[\u001b[0m\u001b[0mfield\u001b[0m\u001b[0;34m.\u001b[0m\u001b[0mname\u001b[0m \u001b[0;32mfor\u001b[0m \u001b[0mfield\u001b[0m \u001b[0;32min\u001b[0m \u001b[0mschema\u001b[0m\u001b[0;34m]\u001b[0m\u001b[0;34m\u001b[0m\u001b[0;34m\u001b[0m\u001b[0m\n\u001b[1;32m    413\u001b[0m     \u001b[0;32mfor\u001b[0m \u001b[0mpage\u001b[0m \u001b[0;32min\u001b[0m \u001b[0mpages\u001b[0m\u001b[0;34m:\u001b[0m\u001b[0;34m\u001b[0m\u001b[0;34m\u001b[0m\u001b[0m\n\u001b[0;32m--> 414\u001b[0;31m         \u001b[0;32myield\u001b[0m \u001b[0m_tabledata_list_page_to_dataframe\u001b[0m\u001b[0;34m(\u001b[0m\u001b[0mpage\u001b[0m\u001b[0;34m,\u001b[0m \u001b[0mcolumn_names\u001b[0m\u001b[0;34m,\u001b[0m \u001b[0mdtypes\u001b[0m\u001b[0;34m)\u001b[0m\u001b[0;34m\u001b[0m\u001b[0;34m\u001b[0m\u001b[0m\n\u001b[0m\u001b[1;32m    415\u001b[0m \u001b[0;34m\u001b[0m\u001b[0m\n\u001b[1;32m    416\u001b[0m \u001b[0;34m\u001b[0m\u001b[0m\n",
      "\u001b[0;32m/usr/local/lib/python3.7/dist-packages/google/cloud/bigquery/_pandas_helpers.py\u001b[0m in \u001b[0;36m_tabledata_list_page_to_dataframe\u001b[0;34m(page, column_names, dtypes)\u001b[0m\n\u001b[1;32m    403\u001b[0m     \u001b[0;32mfor\u001b[0m \u001b[0mcolumn_index\u001b[0m\u001b[0;34m,\u001b[0m \u001b[0mcolumn_name\u001b[0m \u001b[0;32min\u001b[0m \u001b[0menumerate\u001b[0m\u001b[0;34m(\u001b[0m\u001b[0mcolumn_names\u001b[0m\u001b[0;34m)\u001b[0m\u001b[0;34m:\u001b[0m\u001b[0;34m\u001b[0m\u001b[0;34m\u001b[0m\u001b[0m\n\u001b[1;32m    404\u001b[0m         \u001b[0mdtype\u001b[0m \u001b[0;34m=\u001b[0m \u001b[0mdtypes\u001b[0m\u001b[0;34m.\u001b[0m\u001b[0mget\u001b[0m\u001b[0;34m(\u001b[0m\u001b[0mcolumn_name\u001b[0m\u001b[0;34m)\u001b[0m\u001b[0;34m\u001b[0m\u001b[0;34m\u001b[0m\u001b[0m\n\u001b[0;32m--> 405\u001b[0;31m         \u001b[0mcolumns\u001b[0m\u001b[0;34m[\u001b[0m\u001b[0mcolumn_name\u001b[0m\u001b[0;34m]\u001b[0m \u001b[0;34m=\u001b[0m \u001b[0mpandas\u001b[0m\u001b[0;34m.\u001b[0m\u001b[0mSeries\u001b[0m\u001b[0;34m(\u001b[0m\u001b[0mpage\u001b[0m\u001b[0;34m.\u001b[0m\u001b[0m_columns\u001b[0m\u001b[0;34m[\u001b[0m\u001b[0mcolumn_index\u001b[0m\u001b[0;34m]\u001b[0m\u001b[0;34m,\u001b[0m \u001b[0mdtype\u001b[0m\u001b[0;34m=\u001b[0m\u001b[0mdtype\u001b[0m\u001b[0;34m)\u001b[0m\u001b[0;34m\u001b[0m\u001b[0;34m\u001b[0m\u001b[0m\n\u001b[0m\u001b[1;32m    406\u001b[0m \u001b[0;34m\u001b[0m\u001b[0m\n\u001b[1;32m    407\u001b[0m     \u001b[0;32mreturn\u001b[0m \u001b[0mpandas\u001b[0m\u001b[0;34m.\u001b[0m\u001b[0mDataFrame\u001b[0m\u001b[0;34m(\u001b[0m\u001b[0mcolumns\u001b[0m\u001b[0;34m,\u001b[0m \u001b[0mcolumns\u001b[0m\u001b[0;34m=\u001b[0m\u001b[0mcolumn_names\u001b[0m\u001b[0;34m)\u001b[0m\u001b[0;34m\u001b[0m\u001b[0;34m\u001b[0m\u001b[0m\n",
      "\u001b[0;32m/usr/local/lib/python3.7/dist-packages/pandas/core/series.py\u001b[0m in \u001b[0;36m__init__\u001b[0;34m(self, data, index, dtype, name, copy, fastpath)\u001b[0m\n\u001b[1;32m    299\u001b[0m                 \u001b[0;32mraise\u001b[0m \u001b[0mTypeError\u001b[0m\u001b[0;34m(\u001b[0m\u001b[0;34mf\"'{type(data).__name__}' type is unordered\"\u001b[0m\u001b[0;34m)\u001b[0m\u001b[0;34m\u001b[0m\u001b[0;34m\u001b[0m\u001b[0m\n\u001b[1;32m    300\u001b[0m             \u001b[0;32melse\u001b[0m\u001b[0;34m:\u001b[0m\u001b[0;34m\u001b[0m\u001b[0;34m\u001b[0m\u001b[0m\n\u001b[0;32m--> 301\u001b[0;31m                 \u001b[0mdata\u001b[0m \u001b[0;34m=\u001b[0m \u001b[0mcom\u001b[0m\u001b[0;34m.\u001b[0m\u001b[0mmaybe_iterable_to_list\u001b[0m\u001b[0;34m(\u001b[0m\u001b[0mdata\u001b[0m\u001b[0;34m)\u001b[0m\u001b[0;34m\u001b[0m\u001b[0;34m\u001b[0m\u001b[0m\n\u001b[0m\u001b[1;32m    302\u001b[0m \u001b[0;34m\u001b[0m\u001b[0m\n\u001b[1;32m    303\u001b[0m             \u001b[0;32mif\u001b[0m \u001b[0mindex\u001b[0m \u001b[0;32mis\u001b[0m \u001b[0;32mNone\u001b[0m\u001b[0;34m:\u001b[0m\u001b[0;34m\u001b[0m\u001b[0;34m\u001b[0m\u001b[0m\n",
      "\u001b[0;32m/usr/local/lib/python3.7/dist-packages/pandas/core/common.py\u001b[0m in \u001b[0;36mmaybe_iterable_to_list\u001b[0;34m(obj)\u001b[0m\n\u001b[1;32m    277\u001b[0m     \"\"\"\n\u001b[1;32m    278\u001b[0m     \u001b[0;32mif\u001b[0m \u001b[0misinstance\u001b[0m\u001b[0;34m(\u001b[0m\u001b[0mobj\u001b[0m\u001b[0;34m,\u001b[0m \u001b[0mabc\u001b[0m\u001b[0;34m.\u001b[0m\u001b[0mIterable\u001b[0m\u001b[0;34m)\u001b[0m \u001b[0;32mand\u001b[0m \u001b[0;32mnot\u001b[0m \u001b[0misinstance\u001b[0m\u001b[0;34m(\u001b[0m\u001b[0mobj\u001b[0m\u001b[0;34m,\u001b[0m \u001b[0mabc\u001b[0m\u001b[0;34m.\u001b[0m\u001b[0mSized\u001b[0m\u001b[0;34m)\u001b[0m\u001b[0;34m:\u001b[0m\u001b[0;34m\u001b[0m\u001b[0;34m\u001b[0m\u001b[0m\n\u001b[0;32m--> 279\u001b[0;31m         \u001b[0;32mreturn\u001b[0m \u001b[0mlist\u001b[0m\u001b[0;34m(\u001b[0m\u001b[0mobj\u001b[0m\u001b[0;34m)\u001b[0m\u001b[0;34m\u001b[0m\u001b[0;34m\u001b[0m\u001b[0m\n\u001b[0m\u001b[1;32m    280\u001b[0m     \u001b[0;32mreturn\u001b[0m \u001b[0mobj\u001b[0m\u001b[0;34m\u001b[0m\u001b[0;34m\u001b[0m\u001b[0m\n\u001b[1;32m    281\u001b[0m \u001b[0;34m\u001b[0m\u001b[0m\n",
      "\u001b[0;32m/usr/local/lib/python3.7/dist-packages/google/cloud/bigquery/table.py\u001b[0m in \u001b[0;36mget_column_data\u001b[0;34m(field_index, field)\u001b[0m\n\u001b[1;32m   1850\u001b[0m     \u001b[0;32mdef\u001b[0m \u001b[0mget_column_data\u001b[0m\u001b[0;34m(\u001b[0m\u001b[0mfield_index\u001b[0m\u001b[0;34m,\u001b[0m \u001b[0mfield\u001b[0m\u001b[0;34m)\u001b[0m\u001b[0;34m:\u001b[0m\u001b[0;34m\u001b[0m\u001b[0;34m\u001b[0m\u001b[0m\n\u001b[1;32m   1851\u001b[0m         \u001b[0;32mfor\u001b[0m \u001b[0mrow\u001b[0m \u001b[0;32min\u001b[0m \u001b[0mrows\u001b[0m\u001b[0;34m:\u001b[0m\u001b[0;34m\u001b[0m\u001b[0;34m\u001b[0m\u001b[0m\n\u001b[0;32m-> 1852\u001b[0;31m             \u001b[0;32myield\u001b[0m \u001b[0m_helpers\u001b[0m\u001b[0;34m.\u001b[0m\u001b[0m_field_from_json\u001b[0m\u001b[0;34m(\u001b[0m\u001b[0mrow\u001b[0m\u001b[0;34m[\u001b[0m\u001b[0;34m\"f\"\u001b[0m\u001b[0;34m]\u001b[0m\u001b[0;34m[\u001b[0m\u001b[0mfield_index\u001b[0m\u001b[0;34m]\u001b[0m\u001b[0;34m[\u001b[0m\u001b[0;34m\"v\"\u001b[0m\u001b[0;34m]\u001b[0m\u001b[0;34m,\u001b[0m \u001b[0mfield\u001b[0m\u001b[0;34m)\u001b[0m\u001b[0;34m\u001b[0m\u001b[0;34m\u001b[0m\u001b[0m\n\u001b[0m\u001b[1;32m   1853\u001b[0m \u001b[0;34m\u001b[0m\u001b[0m\n\u001b[1;32m   1854\u001b[0m     \u001b[0;32mfor\u001b[0m \u001b[0mfield_index\u001b[0m\u001b[0;34m,\u001b[0m \u001b[0mfield\u001b[0m \u001b[0;32min\u001b[0m \u001b[0menumerate\u001b[0m\u001b[0;34m(\u001b[0m\u001b[0mschema\u001b[0m\u001b[0;34m)\u001b[0m\u001b[0;34m:\u001b[0m\u001b[0;34m\u001b[0m\u001b[0;34m\u001b[0m\u001b[0m\n",
      "\u001b[0;31mKeyboardInterrupt\u001b[0m: "
     ]
    }
   ],
   "source": [
    "res = get_top100_zone('pickup_location_id')\n",
    "res"
   ]
  },
  {
   "cell_type": "code",
   "execution_count": null,
   "metadata": {
    "id": "EANrP1-x-vlf"
   },
   "outputs": [],
   "source": [
    "def show_map(df, trg, tooltip_trg):\n",
    "    \"\"\"\n",
    "    입력되는 pandas.DataFrame를 folium의 지도 위도 출력합니다.\n",
    "    \"\"\"\n",
    "    gs = gpd.GeoSeries.from_wkt(df['zone_geom'])\n",
    "    gdf = gpd.GeoDataFrame(df, geometry=gs, crs=\"EPSG:4326\")\n",
    "\n",
    "    f = folium.Figure(width=600, height=500)\n",
    "    m = folium.Map(location=[40.75, -73.90], zoom_start=10, tiles='CartoDB positron').add_to(f)\n",
    "    choropleth = folium.Choropleth(geo_data=gdf, \n",
    "                    neme='zone_name',\n",
    "                    data=gdf,\n",
    "                    columns=['zone_name', trg],\n",
    "                    key_on='feature.properties.zone_name',\n",
    "                    fill_color='YlGn',\n",
    "                    fill_opacity=0.7,\n",
    "                    line_opacity=0.2,\n",
    "                    legend_name=trg).add_to(m)\n",
    "\n",
    "    style_function = lambda x: {'fillColor': '#ffffff', \n",
    "                                'color':'#000000', \n",
    "                                'fillOpacity': 0.1, \n",
    "                                'weight': 0.1}\n",
    "\n",
    "    tooltip = folium.GeoJson(\n",
    "        gdf,\n",
    "        style_function=style_function, \n",
    "        control=False,\n",
    "        tooltip=folium.GeoJsonTooltip(\n",
    "            fields=tooltip_trg,\n",
    "            localize=True\n",
    "        )\n",
    "    )\n",
    "\n",
    "    choropleth.add_child(tooltip)\n",
    "    display(f)"
   ]
  },
  {
   "cell_type": "code",
   "execution_count": null,
   "metadata": {
    "id": "vDRNVPpq-wkh"
   },
   "outputs": [],
   "source": [
    "show_map(res, 'cnt', ['borough', 'zone_name'])"
   ]
  },
  {
   "cell_type": "markdown",
   "metadata": {
    "id": "XezZzWKU-xZW"
   },
   "source": [
    "✨ 실습 - 쿼리를 활용하여 문제를 해결해보자!"
   ]
  },
  {
   "cell_type": "code",
   "execution_count": null,
   "metadata": {
    "id": "qNWjWBXo-w_S"
   },
   "outputs": [],
   "source": [
    "@logging_time\n",
    "def solution_with_query(q):    \n",
    "    return execute_query(q)"
   ]
  },
  {
   "cell_type": "code",
   "execution_count": null,
   "metadata": {
    "colab": {
     "base_uri": "https://localhost:8080/",
     "height": 437
    },
    "executionInfo": {
     "elapsed": 1414,
     "status": "ok",
     "timestamp": 1636500613957,
     "user": {
      "displayName": "정수희",
      "photoUrl": "https://lh3.googleusercontent.com/a/default-user=s64",
      "userId": "05838850196603126764"
     },
     "user_tz": -540
    },
    "id": "pbzzvuPc-1Um",
    "outputId": "c76868b1-e500-4a92-82b3-d5e092a1d2e0"
   },
   "outputs": [
    {
     "name": "stdout",
     "output_type": "stream",
     "text": [
      "WorkingTime[solution_with_query]: 1.0871655941009521 sec\n"
     ]
    },
    {
     "data": {
      "text/html": [
       "<div>\n",
       "<style scoped>\n",
       "    .dataframe tbody tr th:only-of-type {\n",
       "        vertical-align: middle;\n",
       "    }\n",
       "\n",
       "    .dataframe tbody tr th {\n",
       "        vertical-align: top;\n",
       "    }\n",
       "\n",
       "    .dataframe thead th {\n",
       "        text-align: right;\n",
       "    }\n",
       "</style>\n",
       "<table border=\"1\" class=\"dataframe\">\n",
       "  <thead>\n",
       "    <tr style=\"text-align: right;\">\n",
       "      <th></th>\n",
       "      <th>zone_id</th>\n",
       "      <th>zone_name</th>\n",
       "      <th>borough</th>\n",
       "      <th>cnt</th>\n",
       "      <th>zone_geom</th>\n",
       "    </tr>\n",
       "  </thead>\n",
       "  <tbody>\n",
       "    <tr>\n",
       "      <th>0</th>\n",
       "      <td>237</td>\n",
       "      <td>Upper East Side South</td>\n",
       "      <td>Manhattan</td>\n",
       "      <td>4442294</td>\n",
       "      <td>POLYGON((-73.9656696 40.7628045559999, -73.965...</td>\n",
       "    </tr>\n",
       "    <tr>\n",
       "      <th>1</th>\n",
       "      <td>161</td>\n",
       "      <td>Midtown Center</td>\n",
       "      <td>Manhattan</td>\n",
       "      <td>4274032</td>\n",
       "      <td>POLYGON((-73.9748872719999 40.7559237909999, -...</td>\n",
       "    </tr>\n",
       "    <tr>\n",
       "      <th>2</th>\n",
       "      <td>236</td>\n",
       "      <td>Upper East Side North</td>\n",
       "      <td>Manhattan</td>\n",
       "      <td>4023665</td>\n",
       "      <td>POLYGON((-73.9572940999999 40.7742835549999, -...</td>\n",
       "    </tr>\n",
       "    <tr>\n",
       "      <th>3</th>\n",
       "      <td>186</td>\n",
       "      <td>Penn Station/Madison Sq West</td>\n",
       "      <td>Manhattan</td>\n",
       "      <td>3973288</td>\n",
       "      <td>POLYGON((-73.9905176129999 40.7460386379999, -...</td>\n",
       "    </tr>\n",
       "    <tr>\n",
       "      <th>4</th>\n",
       "      <td>162</td>\n",
       "      <td>Midtown East</td>\n",
       "      <td>Manhattan</td>\n",
       "      <td>3863529</td>\n",
       "      <td>POLYGON((-73.970759194 40.7558248509999, -73.9...</td>\n",
       "    </tr>\n",
       "    <tr>\n",
       "      <th>...</th>\n",
       "      <td>...</td>\n",
       "      <td>...</td>\n",
       "      <td>...</td>\n",
       "      <td>...</td>\n",
       "      <td>...</td>\n",
       "    </tr>\n",
       "    <tr>\n",
       "      <th>95</th>\n",
       "      <td>70</td>\n",
       "      <td>East Elmhurst</td>\n",
       "      <td>Queens</td>\n",
       "      <td>16896</td>\n",
       "      <td>POLYGON((-73.8591354529999 40.7614184409999, -...</td>\n",
       "    </tr>\n",
       "    <tr>\n",
       "      <th>96</th>\n",
       "      <td>36</td>\n",
       "      <td>Bushwick North</td>\n",
       "      <td>Brooklyn</td>\n",
       "      <td>16763</td>\n",
       "      <td>POLYGON((-73.913291624 40.7043126389999, -73.9...</td>\n",
       "    </tr>\n",
       "    <tr>\n",
       "      <th>97</th>\n",
       "      <td>95</td>\n",
       "      <td>Forest Hills</td>\n",
       "      <td>Queens</td>\n",
       "      <td>16410</td>\n",
       "      <td>POLYGON((-73.8474631399999 40.7389520309999, -...</td>\n",
       "    </tr>\n",
       "    <tr>\n",
       "      <th>98</th>\n",
       "      <td>93</td>\n",
       "      <td>Flushing Meadows-Corona Park</td>\n",
       "      <td>Queens</td>\n",
       "      <td>15576</td>\n",
       "      <td>POLYGON((-73.8569707835437 40.7640660675688, -...</td>\n",
       "    </tr>\n",
       "    <tr>\n",
       "      <th>99</th>\n",
       "      <td>83</td>\n",
       "      <td>Elmhurst/Maspeth</td>\n",
       "      <td>Queens</td>\n",
       "      <td>14610</td>\n",
       "      <td>POLYGON((-73.8913914549998 40.7466410039998, -...</td>\n",
       "    </tr>\n",
       "  </tbody>\n",
       "</table>\n",
       "<p>98 rows × 5 columns</p>\n",
       "</div>"
      ],
      "text/plain": [
       "   zone_id  ...                                          zone_geom\n",
       "0      237  ...  POLYGON((-73.9656696 40.7628045559999, -73.965...\n",
       "1      161  ...  POLYGON((-73.9748872719999 40.7559237909999, -...\n",
       "2      236  ...  POLYGON((-73.9572940999999 40.7742835549999, -...\n",
       "3      186  ...  POLYGON((-73.9905176129999 40.7460386379999, -...\n",
       "4      162  ...  POLYGON((-73.970759194 40.7558248509999, -73.9...\n",
       "..     ...  ...                                                ...\n",
       "95      70  ...  POLYGON((-73.8591354529999 40.7614184409999, -...\n",
       "96      36  ...  POLYGON((-73.913291624 40.7043126389999, -73.9...\n",
       "97      95  ...  POLYGON((-73.8474631399999 40.7389520309999, -...\n",
       "98      93  ...  POLYGON((-73.8569707835437 40.7640660675688, -...\n",
       "99      83  ...  POLYGON((-73.8913914549998 40.7466410039998, -...\n",
       "\n",
       "[98 rows x 5 columns]"
      ]
     },
     "execution_count": 23,
     "metadata": {},
     "output_type": "execute_result"
    }
   ],
   "source": [
    "query = \\\n",
    "\"\"\"\n",
    "select top100.pickup_location_id as zone_id,\n",
    "       zone.zone_name, zone.borough, top100.cnt, zone.zone_geom\n",
    "from (select pickup_location_id, count(pickup_location_id) as cnt\n",
    "      from `bigquery-public-data.new_york_taxi_trips.tlc_yellow_trips_2017`\n",
    "      group by pickup_location_id\n",
    "      order by count(pickup_location_id) desc \n",
    "      LIMIT 100) as top100\n",
    "left join `bigquery-public-data.new_york_taxi_trips.taxi_zone_geom` as zone\n",
    "on top100.pickup_location_id=zone.zone_id\n",
    "\"\"\"\n",
    "res = solution_with_query(query).dropna()\n",
    "res"
   ]
  },
  {
   "cell_type": "code",
   "execution_count": null,
   "metadata": {
    "colab": {
     "base_uri": "https://localhost:8080/",
     "height": 520
    },
    "executionInfo": {
     "elapsed": 3351,
     "status": "ok",
     "timestamp": 1636500620052,
     "user": {
      "displayName": "정수희",
      "photoUrl": "https://lh3.googleusercontent.com/a/default-user=s64",
      "userId": "05838850196603126764"
     },
     "user_tz": -540
    },
    "id": "7YPLl-ZBCUFn",
    "outputId": "b4c4468d-87fd-44be-8996-2aa30f1dfb9f"
   },
   "outputs": [],
   "source": [
    "show_map(res, 'cnt', ['borough', 'zone_name'])"
   ]
  },
  {
   "cell_type": "markdown",
   "metadata": {
    "id": "fMxjLRGv_oti"
   },
   "source": [
    "### 2) 사람들이 가장 택시를 많이 내리는 곳 top 100은?\n",
    "- 출력 column : zone_id, zone_name, borough, cnt, zone_geom\n",
    "    - zone_id : 구역의 id\n",
    "    - zone_name : 구역이 이름\n",
    "    - borough : 구역의 속하는 지역\n",
    "    - cnt : 해당 구역에서 출발한 trip의 수\n",
    "    - zone_geom : 구역의 geometry 정보"
   ]
  },
  {
   "cell_type": "markdown",
   "metadata": {
    "id": "EcnvAAWB_qJv"
   },
   "source": [
    "✨ 출력 예시 - 데이터를 모두 읽어와 pandas에서 처리하는 경우"
   ]
  },
  {
   "cell_type": "code",
   "execution_count": null,
   "metadata": {
    "id": "_22riy6D_rO2"
   },
   "outputs": [],
   "source": [
    "res = get_top100_zone('dropoff_location_id')\n",
    "res"
   ]
  },
  {
   "cell_type": "code",
   "execution_count": null,
   "metadata": {
    "id": "ED2_bMPM_sxJ"
   },
   "outputs": [],
   "source": [
    "show_map(res, 'cnt', ['borough', 'zone_name'])"
   ]
  },
  {
   "cell_type": "markdown",
   "metadata": {
    "id": "jBacIQCIBWN8"
   },
   "source": [
    "✨ 실습 - 쿼리를 활용하여 문제를 해결해보자!"
   ]
  },
  {
   "cell_type": "code",
   "execution_count": null,
   "metadata": {
    "colab": {
     "base_uri": "https://localhost:8080/",
     "height": 437
    },
    "executionInfo": {
     "elapsed": 4345,
     "status": "ok",
     "timestamp": 1636500638876,
     "user": {
      "displayName": "정수희",
      "photoUrl": "https://lh3.googleusercontent.com/a/default-user=s64",
      "userId": "05838850196603126764"
     },
     "user_tz": -540
    },
    "id": "0ln-3v3TBZYF",
    "outputId": "0c5a5d9b-8e45-45f9-baff-b972ca9ae577"
   },
   "outputs": [
    {
     "name": "stdout",
     "output_type": "stream",
     "text": [
      "WorkingTime[solution_with_query]: 4.004879713058472 sec\n"
     ]
    },
    {
     "data": {
      "text/html": [
       "<div>\n",
       "<style scoped>\n",
       "    .dataframe tbody tr th:only-of-type {\n",
       "        vertical-align: middle;\n",
       "    }\n",
       "\n",
       "    .dataframe tbody tr th {\n",
       "        vertical-align: top;\n",
       "    }\n",
       "\n",
       "    .dataframe thead th {\n",
       "        text-align: right;\n",
       "    }\n",
       "</style>\n",
       "<table border=\"1\" class=\"dataframe\">\n",
       "  <thead>\n",
       "    <tr style=\"text-align: right;\">\n",
       "      <th></th>\n",
       "      <th>zone_id</th>\n",
       "      <th>zone_name</th>\n",
       "      <th>borough</th>\n",
       "      <th>cnt</th>\n",
       "      <th>zone_geom</th>\n",
       "    </tr>\n",
       "  </thead>\n",
       "  <tbody>\n",
       "    <tr>\n",
       "      <th>2</th>\n",
       "      <td>1</td>\n",
       "      <td>Newark Airport</td>\n",
       "      <td>EWR</td>\n",
       "      <td>220034</td>\n",
       "      <td>POLYGON((-74.1856319999999 40.6916479999999, -...</td>\n",
       "    </tr>\n",
       "    <tr>\n",
       "      <th>3</th>\n",
       "      <td>168</td>\n",
       "      <td>Mott Haven/Port Morris</td>\n",
       "      <td>Bronx</td>\n",
       "      <td>87144</td>\n",
       "      <td>MULTIPOLYGON(((-73.8993874857103 40.8019356650...</td>\n",
       "    </tr>\n",
       "    <tr>\n",
       "      <th>4</th>\n",
       "      <td>138</td>\n",
       "      <td>LaGuardia Airport</td>\n",
       "      <td>Queens</td>\n",
       "      <td>1315015</td>\n",
       "      <td>MULTIPOLYGON(((-73.8728849699182 40.7859626331...</td>\n",
       "    </tr>\n",
       "    <tr>\n",
       "      <th>5</th>\n",
       "      <td>132</td>\n",
       "      <td>JFK Airport</td>\n",
       "      <td>Queens</td>\n",
       "      <td>998023</td>\n",
       "      <td>MULTIPOLYGON(((-73.7470431634215 40.6375664264...</td>\n",
       "    </tr>\n",
       "    <tr>\n",
       "      <th>6</th>\n",
       "      <td>7</td>\n",
       "      <td>Astoria</td>\n",
       "      <td>Queens</td>\n",
       "      <td>529479</td>\n",
       "      <td>POLYGON((-73.9041889529999 40.767530285, -73.9...</td>\n",
       "    </tr>\n",
       "    <tr>\n",
       "      <th>...</th>\n",
       "      <td>...</td>\n",
       "      <td>...</td>\n",
       "      <td>...</td>\n",
       "      <td>...</td>\n",
       "      <td>...</td>\n",
       "    </tr>\n",
       "    <tr>\n",
       "      <th>95</th>\n",
       "      <td>209</td>\n",
       "      <td>Seaport</td>\n",
       "      <td>Manhattan</td>\n",
       "      <td>301485</td>\n",
       "      <td>POLYGON((-74.0051098989999 40.7120555939999, -...</td>\n",
       "    </tr>\n",
       "    <tr>\n",
       "      <th>96</th>\n",
       "      <td>243</td>\n",
       "      <td>Washington Heights North</td>\n",
       "      <td>Manhattan</td>\n",
       "      <td>210775</td>\n",
       "      <td>POLYGON((-73.9321985510756 40.8698448708717, -...</td>\n",
       "    </tr>\n",
       "    <tr>\n",
       "      <th>97</th>\n",
       "      <td>152</td>\n",
       "      <td>Manhattanville</td>\n",
       "      <td>Manhattan</td>\n",
       "      <td>196864</td>\n",
       "      <td>POLYGON((-73.9536710349998 40.8220175339999, -...</td>\n",
       "    </tr>\n",
       "    <tr>\n",
       "      <th>98</th>\n",
       "      <td>127</td>\n",
       "      <td>Inwood</td>\n",
       "      <td>Manhattan</td>\n",
       "      <td>86373</td>\n",
       "      <td>MULTIPOLYGON(((-73.921698419047 40.85667230185...</td>\n",
       "    </tr>\n",
       "    <tr>\n",
       "      <th>99</th>\n",
       "      <td>12</td>\n",
       "      <td>Battery Park</td>\n",
       "      <td>Manhattan</td>\n",
       "      <td>82459</td>\n",
       "      <td>POLYGON((-74.015655822 40.7048826339999, -74.0...</td>\n",
       "    </tr>\n",
       "  </tbody>\n",
       "</table>\n",
       "<p>98 rows × 5 columns</p>\n",
       "</div>"
      ],
      "text/plain": [
       "   zone_id  ...                                          zone_geom\n",
       "2        1  ...  POLYGON((-74.1856319999999 40.6916479999999, -...\n",
       "3      168  ...  MULTIPOLYGON(((-73.8993874857103 40.8019356650...\n",
       "4      138  ...  MULTIPOLYGON(((-73.8728849699182 40.7859626331...\n",
       "5      132  ...  MULTIPOLYGON(((-73.7470431634215 40.6375664264...\n",
       "6        7  ...  POLYGON((-73.9041889529999 40.767530285, -73.9...\n",
       "..     ...  ...                                                ...\n",
       "95     209  ...  POLYGON((-74.0051098989999 40.7120555939999, -...\n",
       "96     243  ...  POLYGON((-73.9321985510756 40.8698448708717, -...\n",
       "97     152  ...  POLYGON((-73.9536710349998 40.8220175339999, -...\n",
       "98     127  ...  MULTIPOLYGON(((-73.921698419047 40.85667230185...\n",
       "99      12  ...  POLYGON((-74.015655822 40.7048826339999, -74.0...\n",
       "\n",
       "[98 rows x 5 columns]"
      ]
     },
     "execution_count": 25,
     "metadata": {},
     "output_type": "execute_result"
    }
   ],
   "source": [
    "query = \\\n",
    "\"\"\"\n",
    "select top100.dropoff_location_id as zone_id,\n",
    "       zone.zone_name, zone.borough, top100.cnt, zone.zone_geom\n",
    "from (select dropoff_location_id, count(dropoff_location_id) as cnt\n",
    "      from `bigquery-public-data.new_york_taxi_trips.tlc_yellow_trips_2017`\n",
    "      group by dropoff_location_id\n",
    "      order by count(dropoff_location_id) desc \n",
    "      LIMIT 100) as top100\n",
    "left join `bigquery-public-data.new_york_taxi_trips.taxi_zone_geom` as zone\n",
    "on top100.dropoff_location_id=zone.zone_id\n",
    "\"\"\"\n",
    "res = solution_with_query(query).dropna()\n",
    "res"
   ]
  },
  {
   "cell_type": "code",
   "execution_count": null,
   "metadata": {
    "colab": {
     "base_uri": "https://localhost:8080/",
     "height": 520
    },
    "executionInfo": {
     "elapsed": 2834,
     "status": "ok",
     "timestamp": 1636500644906,
     "user": {
      "displayName": "정수희",
      "photoUrl": "https://lh3.googleusercontent.com/a/default-user=s64",
      "userId": "05838850196603126764"
     },
     "user_tz": -540
    },
    "id": "xthg0LHzCf13",
    "outputId": "af034b05-7a4a-44fc-88e9-449fe04c1c2e"
   },
   "outputs": [],
   "source": [
    "show_map(res, 'cnt', ['borough', 'zone_name'])"
   ]
  },
  {
   "cell_type": "markdown",
   "metadata": {
    "id": "6Pjndfg6_wA2"
   },
   "source": [
    "### 3) 등장빈도가 높은 여행경로 100개를 내림차순으로 정렬하시오.\n",
    "- 출력 column : pickup_zone, dropoff_zone, count\n",
    "    - pickup_zone : trip의 시작 지점\n",
    "    - dropoff_zone : trip의 종료 지점\n",
    "    - cnt : 해당 trip의 등장 횟수"
   ]
  },
  {
   "cell_type": "markdown",
   "metadata": {
    "id": "5lLZLJGG_zaT"
   },
   "source": [
    "✨ 출력 예시 - 데이터를 모두 읽어와 pandas에서 처리하는 경우"
   ]
  },
  {
   "cell_type": "code",
   "execution_count": null,
   "metadata": {
    "id": "r4egr5N8_yzG"
   },
   "outputs": [],
   "source": [
    "@logging_time\n",
    "def get_frequent_routine():\n",
    "    \"\"\"\n",
    "    db에서 테이블의 모든 정보를 가져 온 후, \n",
    "    target의 등장 빈도가 가장 높은 100개의 tuple를 반환합니다.\n",
    "    이때, 반환되는 tuple의 정보는 zone_id, zone_name, borough, cnt, zone_geom 입니다.\n",
    "    \"\"\"\n",
    "    # 1. taxi_trips 정보를 모두 읽어 dataframe로 할당한다.\n",
    "    taxi_trips_df = execute_query(\"SELECT * FROM taxi_trips WHERE pickup_location_id IS NOT NULL AND dropoff_location_id IS NOT NULL;\")\n",
    "    # display(taxi_trips_df.info())\n",
    "\n",
    "    # 2. taxi_trips_df에서 pickup_location_id와 dropoff_location_id를 연결하여\n",
    "    #    새로운 column `routine`를 정의한다.\n",
    "    taxi_trips_df['routine'] = taxi_trips_df.apply(lambda x : str(x['pickup_location_id']) + \" \" + str(x['dropoff_location_id']), axis=1)\n",
    "\n",
    "    \n",
    "    # 3. taxi_trips_df에서 routine를 기준으로 \n",
    "    #    grouping하여 routine별 column 수를 계산한다.\n",
    "    #    이때, pickup_datetime을 사용한 이유는 결측값이 없는 임의의 column을 선정하였기 때문이다.\n",
    "    top100 = taxi_trips_df[['pickup_datetime', 'routine']].groupby(by=['routine']) # routine을 기준으로 그룹화\n",
    "    top100 = top100.count()  # aggrigation func로 count 사용\n",
    "    top100 = top100.sort_values(by='pickup_datetime', ascending=False) # count 정보를 기준으로 내림차순\n",
    "    top100 = top100.head(100) # 상위 100개만을 추출\n",
    "    top100 = top100.reset_index() # index로 되어 있는 target를 column으로 변환\n",
    "    top100 = top100.rename(columns={'index':'routine', 'pickup_datetime':'cnt'})\n",
    "\n",
    "    # 4. 출력 형식을 맞추기 위하여 `routine` column을 분해하여\n",
    "    #    `pickup_zone`과 `dropoff_zone`을 생성한다.\n",
    "    top100['pickup_zone'] = top100.apply(lambda x : x['routine'].split()[0], axis=1)\n",
    "    top100['dropoff_zone'] = top100.apply(lambda x : x['routine'].split()[1], axis=1)\n",
    "    res = top100[['pickup_zone', 'dropoff_zone', 'cnt']]\n",
    "\n",
    "    # display(res)\n",
    "    return res"
   ]
  },
  {
   "cell_type": "code",
   "execution_count": null,
   "metadata": {
    "id": "5B6p0A3__0xz"
   },
   "outputs": [],
   "source": [
    "res = get_frequent_routine()\n",
    "res"
   ]
  },
  {
   "cell_type": "markdown",
   "metadata": {
    "id": "D4hXlkZl_1qb"
   },
   "source": [
    "✨ 실습 - 쿼리를 활용하여 문제를 해결해보자!\n",
    "- tip ) http://www.devkuma.com/books/pages/1347"
   ]
  },
  {
   "cell_type": "code",
   "execution_count": null,
   "metadata": {
    "colab": {
     "base_uri": "https://localhost:8080/",
     "height": 437
    },
    "executionInfo": {
     "elapsed": 5302,
     "status": "ok",
     "timestamp": 1636500699224,
     "user": {
      "displayName": "정수희",
      "photoUrl": "https://lh3.googleusercontent.com/a/default-user=s64",
      "userId": "05838850196603126764"
     },
     "user_tz": -540
    },
    "id": "yubHHNI2_5L3",
    "outputId": "7fa0c470-c3c3-42f3-9552-cd5158ea5320"
   },
   "outputs": [
    {
     "name": "stdout",
     "output_type": "stream",
     "text": [
      "WorkingTime[solution_with_query]: 4.995290040969849 sec\n"
     ]
    },
    {
     "data": {
      "text/html": [
       "<div>\n",
       "<style scoped>\n",
       "    .dataframe tbody tr th:only-of-type {\n",
       "        vertical-align: middle;\n",
       "    }\n",
       "\n",
       "    .dataframe tbody tr th {\n",
       "        vertical-align: top;\n",
       "    }\n",
       "\n",
       "    .dataframe thead th {\n",
       "        text-align: right;\n",
       "    }\n",
       "</style>\n",
       "<table border=\"1\" class=\"dataframe\">\n",
       "  <thead>\n",
       "    <tr style=\"text-align: right;\">\n",
       "      <th></th>\n",
       "      <th>pickup_zone</th>\n",
       "      <th>dropoff_zone</th>\n",
       "      <th>cnt</th>\n",
       "    </tr>\n",
       "  </thead>\n",
       "  <tbody>\n",
       "    <tr>\n",
       "      <th>0</th>\n",
       "      <td>264</td>\n",
       "      <td>264</td>\n",
       "      <td>1411265</td>\n",
       "    </tr>\n",
       "    <tr>\n",
       "      <th>1</th>\n",
       "      <td>237</td>\n",
       "      <td>236</td>\n",
       "      <td>624945</td>\n",
       "    </tr>\n",
       "    <tr>\n",
       "      <th>2</th>\n",
       "      <td>236</td>\n",
       "      <td>236</td>\n",
       "      <td>528078</td>\n",
       "    </tr>\n",
       "    <tr>\n",
       "      <th>3</th>\n",
       "      <td>236</td>\n",
       "      <td>237</td>\n",
       "      <td>518375</td>\n",
       "    </tr>\n",
       "    <tr>\n",
       "      <th>4</th>\n",
       "      <td>237</td>\n",
       "      <td>237</td>\n",
       "      <td>488631</td>\n",
       "    </tr>\n",
       "    <tr>\n",
       "      <th>...</th>\n",
       "      <td>...</td>\n",
       "      <td>...</td>\n",
       "      <td>...</td>\n",
       "    </tr>\n",
       "    <tr>\n",
       "      <th>95</th>\n",
       "      <td>230</td>\n",
       "      <td>48</td>\n",
       "      <td>149223</td>\n",
       "    </tr>\n",
       "    <tr>\n",
       "      <th>96</th>\n",
       "      <td>164</td>\n",
       "      <td>234</td>\n",
       "      <td>149153</td>\n",
       "    </tr>\n",
       "    <tr>\n",
       "      <th>97</th>\n",
       "      <td>186</td>\n",
       "      <td>162</td>\n",
       "      <td>149099</td>\n",
       "    </tr>\n",
       "    <tr>\n",
       "      <th>98</th>\n",
       "      <td>142</td>\n",
       "      <td>230</td>\n",
       "      <td>148897</td>\n",
       "    </tr>\n",
       "    <tr>\n",
       "      <th>99</th>\n",
       "      <td>162</td>\n",
       "      <td>141</td>\n",
       "      <td>148426</td>\n",
       "    </tr>\n",
       "  </tbody>\n",
       "</table>\n",
       "<p>100 rows × 3 columns</p>\n",
       "</div>"
      ],
      "text/plain": [
       "   pickup_zone dropoff_zone      cnt\n",
       "0          264          264  1411265\n",
       "1          237          236   624945\n",
       "2          236          236   528078\n",
       "3          236          237   518375\n",
       "4          237          237   488631\n",
       "..         ...          ...      ...\n",
       "95         230           48   149223\n",
       "96         164          234   149153\n",
       "97         186          162   149099\n",
       "98         142          230   148897\n",
       "99         162          141   148426\n",
       "\n",
       "[100 rows x 3 columns]"
      ]
     },
     "execution_count": 28,
     "metadata": {},
     "output_type": "execute_result"
    }
   ],
   "source": [
    "query = \\\n",
    "\"\"\"\n",
    "select split(routine, ' ')[safe_offset(0)] as pickup_zone, \n",
    "       split(routine, ' ')[safe_offset(1)] as dropoff_zone,\n",
    "       count(routine) as cnt\n",
    "from (select concat(pickup_location_id, ' ', dropoff_location_id) as routine \n",
    "      from `bigquery-public-data.new_york_taxi_trips.tlc_yellow_trips_2017`)\n",
    "group by routine\n",
    "order by count(routine) desc\n",
    "limit 100\n",
    "\"\"\"\n",
    "\n",
    "res = solution_with_query(query).dropna()\n",
    "res"
   ]
  },
  {
   "cell_type": "markdown",
   "metadata": {
    "id": "GMiWC3xwAZts"
   },
   "source": [
    "### 4) 출발구역에 따른 여행객 수의 비율\n",
    "- 출력 column : zone_id, zone_name, borough, passenger_1, passenger_2, passenger_3, passenger_4, passenger_other, zone_geom\n",
    "    - zone_id : 구역의 id\n",
    "    - zone_name : 구역이 이름\n",
    "    - borough : 구역의 속하는 지역\n",
    "    - cnt : 해당 구역에서 출발한 trip의 수\n",
    "    - passenger_1, passenger_2, passenger_3, passenger_4는 passenger_count에서 오며 각 element는 해당 zone에서 출발한 여행에서 해당 여행객수의 비율(1이하의 float)이다. passenger_other는 1\\~4 이외의 여행객 수(0, 5\\~9)에 대한 비율이다."
   ]
  },
  {
   "cell_type": "markdown",
   "metadata": {
    "id": "p2bkt4v-AeAQ"
   },
   "source": [
    "✨ 출력 예시 - 데이터를 모두 읽어와 pandas에서 처리하는 "
   ]
  },
  {
   "cell_type": "code",
   "execution_count": null,
   "metadata": {
    "id": "iOhued0XAelY"
   },
   "outputs": [],
   "source": [
    "@logging_time\n",
    "def get_pessenger_with_zone(trg):\n",
    "    # 1. 두개 table 정보를 모두 읽어 dataframe로 할당한다\n",
    "    taxi_trips_df = execute_query(\"SELECT * FROM taxi_trips WHERE pickup_location_id IS NOT NULL AND dropoff_location_id IS NOT NULL;\")\n",
    "    taxi_zone_geom_df = execute_query(\"SELECT * FROM taxi_zone_geom;\")\n",
    "\n",
    "    #2. taxi_trips_df에서 trg와 passenger_count만을 추출한 후, passenger_count에 대하여 one-hot encoding을 진행한다.\n",
    "    passenger_one_hot = pd.get_dummies(taxi_trips_df[['passenger_count',trg]], columns = ['passenger_count'])\n",
    "\n",
    "    #3. passenger_count_0, passenger_count_5, passenger_count_6을 합하여 새로운 column passenger_other을 정의한다.\n",
    "    #   이후, 불필요한 column을 제거한다.\n",
    "    passenger_one_hot['passenger_other'] = passenger_one_hot.apply(lambda x : x['passenger_count_0'] + x['passenger_count_5'] + x['passenger_count_6'], axis=1)\n",
    "    passenger_one_hot = passenger_one_hot.drop(['passenger_count_0', 'passenger_count_5', 'passenger_count_6'], axis=1)\n",
    "\n",
    "    # 4. passenger_one_hot 테이블을 trg를 기준으로 하여 그룹핑하고, column의 누적합을 구한다.\n",
    "    passenger_one_hot = passenger_one_hot.groupby(by=trg).sum().reset_index()\n",
    "    passenger_one_hot = passenger_one_hot.rename(columns={'passenger_count_1' : 'passenger_1', 'passenger_count_2' : 'passenger_2', 'passenger_count_3' : 'passenger_3', 'passenger_count_4' : 'passenger_4'})\n",
    "\n",
    "    # 5. 해당 구역에서 출발하는 trip에 대하여 passenger의 수별로 차지하는 비유을 구해야하므로, 전체 trip의 수를 구하여 새로운 column `total_trip`을 정의한다.\n",
    "    passenger_one_hot['total_trip'] = passenger_one_hot.apply(lambda x : x['passenger_1'] + x['passenger_2'] + x['passenger_3'] + x['passenger_4'] + x['passenger_other'], axis=1)\n",
    "\n",
    "    # 6. passenger에 대한 column을 전체에서 차지하는 비율 값으로 변환한다.\n",
    "    passenger_one_hot['passenger_1'] = passenger_one_hot.apply(lambda x : x['passenger_1'] / x['total_trip'], axis=1)\n",
    "    passenger_one_hot['passenger_2'] = passenger_one_hot.apply(lambda x : x['passenger_2'] / x['total_trip'], axis=1)\n",
    "    passenger_one_hot['passenger_3'] = passenger_one_hot.apply(lambda x : x['passenger_3'] / x['total_trip'], axis=1)\n",
    "    passenger_one_hot['passenger_4'] = passenger_one_hot.apply(lambda x : x['passenger_4'] / x['total_trip'], axis=1)\n",
    "    passenger_one_hot['passenger_other'] = passenger_one_hot.apply(lambda x : x['passenger_other'] / x['total_trip'], axis=1)\n",
    "\n",
    "    # 7. passenger_one_hot과 taxi_zone_geom_df을 join시켜 원하는 출력 형태를 만든다.\n",
    "    res = passenger_one_hot.merge(taxi_zone_geom_df,\n",
    "                                how='inner',\n",
    "                                left_on=trg,\n",
    "                                right_on='zone_id')\n",
    "    res = res[['zone_id', 'zone_name', 'borough', 'passenger_1', 'passenger_2', 'passenger_3', 'passenger_4', 'passenger_other', 'zone_geom']]\n",
    "    # display(res)\n",
    "    return res"
   ]
  },
  {
   "cell_type": "code",
   "execution_count": null,
   "metadata": {
    "id": "AG2mj5DOAklP"
   },
   "outputs": [],
   "source": [
    "res = get_pessenger_with_zone('pickup_location_id')\n",
    "res"
   ]
  },
  {
   "cell_type": "code",
   "execution_count": null,
   "metadata": {
    "id": "h_V4ds3yAl_X"
   },
   "outputs": [],
   "source": [
    "def show_map_range_0_1(df, trg, tooltip_trg):\n",
    "    \"\"\"\n",
    "    입력되는 pandas.DataFrame를 folium의 지도 위도 출력합니다.\n",
    "    \"\"\"\n",
    "    gs = gpd.GeoSeries.from_wkt(df['zone_geom'])\n",
    "    gdf = gpd.GeoDataFrame(df, geometry=gs, crs=\"EPSG:4326\")\n",
    "\n",
    "    f = folium.Figure(width=600, height=500)\n",
    "    m = folium.Map(location=[40.75, -73.90], zoom_start=10, tiles='CartoDB positron').add_to(f)\n",
    "    choropleth = folium.Choropleth(geo_data=gdf, \n",
    "                    neme='zone_name',\n",
    "                    data=gdf,\n",
    "                    columns=['zone_name', trg],\n",
    "                    key_on='feature.properties.zone_name',\n",
    "                    fill_color='YlGn',\n",
    "                    fill_opacity=0.7,\n",
    "                    line_opacity=0.2,\n",
    "                    legend_name=trg,\n",
    "                    threshold_scale=[0, 0.1, 0.2, 0.3, 0.4, 0.5, 0.6, 0.7, 0.8, 1]).add_to(m)\n",
    "\n",
    "    style_function = lambda x: {'fillColor': '#ffffff', \n",
    "                                'color':'#000000', \n",
    "                                'fillOpacity': 0.1, \n",
    "                                'weight': 0.1}\n",
    "\n",
    "    tooltip = folium.GeoJson(\n",
    "        gdf,\n",
    "        style_function=style_function, \n",
    "        control=False,\n",
    "        tooltip=folium.GeoJsonTooltip(\n",
    "            fields=tooltip_trg,\n",
    "            localize=True\n",
    "        )\n",
    "    )\n",
    "\n",
    "    choropleth.add_child(tooltip)\n",
    "    display(f)"
   ]
  },
  {
   "cell_type": "code",
   "execution_count": null,
   "metadata": {
    "id": "ivk2S3unAm6-"
   },
   "outputs": [],
   "source": [
    "def show_problem_4_5_map(df):\n",
    "    for i in range(1, 5):\n",
    "        print(f'passenger_{i} >>>>>')\n",
    "        show_map_range_0_1(df[['zone_name', 'borough', f'passenger_{i}','zone_geom']], \n",
    "                        f'passenger_{i}', \n",
    "                        ['zone_name', 'borough', f'passenger_{i}'])\n",
    "        print()"
   ]
  },
  {
   "cell_type": "code",
   "execution_count": null,
   "metadata": {
    "id": "oKniAE-ZAn1g"
   },
   "outputs": [],
   "source": [
    "show_problem_4_5_map(res)"
   ]
  },
  {
   "cell_type": "markdown",
   "metadata": {
    "id": "1pn3MnCaAozs"
   },
   "source": [
    "✨ 실습 - 쿼리를 활용하여 문제를 해결해보자!"
   ]
  },
  {
   "cell_type": "code",
   "execution_count": null,
   "metadata": {
    "colab": {
     "base_uri": "https://localhost:8080/",
     "height": 437
    },
    "executionInfo": {
     "elapsed": 2936,
     "status": "ok",
     "timestamp": 1636500912060,
     "user": {
      "displayName": "정수희",
      "photoUrl": "https://lh3.googleusercontent.com/a/default-user=s64",
      "userId": "05838850196603126764"
     },
     "user_tz": -540
    },
    "id": "M3xJNvjsAqSG",
    "outputId": "b952babc-7dfd-4725-b151-30d492fa171a"
   },
   "outputs": [
    {
     "name": "stdout",
     "output_type": "stream",
     "text": [
      "WorkingTime[solution_with_query]: 2.6121504306793213 sec\n"
     ]
    },
    {
     "data": {
      "text/html": [
       "<div>\n",
       "<style scoped>\n",
       "    .dataframe tbody tr th:only-of-type {\n",
       "        vertical-align: middle;\n",
       "    }\n",
       "\n",
       "    .dataframe tbody tr th {\n",
       "        vertical-align: top;\n",
       "    }\n",
       "\n",
       "    .dataframe thead th {\n",
       "        text-align: right;\n",
       "    }\n",
       "</style>\n",
       "<table border=\"1\" class=\"dataframe\">\n",
       "  <thead>\n",
       "    <tr style=\"text-align: right;\">\n",
       "      <th></th>\n",
       "      <th>pickup_location_id</th>\n",
       "      <th>zone_name</th>\n",
       "      <th>borough</th>\n",
       "      <th>passenger_1</th>\n",
       "      <th>passenger_2</th>\n",
       "      <th>passenger_3</th>\n",
       "      <th>passenger_4</th>\n",
       "      <th>passenger_other</th>\n",
       "      <th>zone_geom</th>\n",
       "    </tr>\n",
       "  </thead>\n",
       "  <tbody>\n",
       "    <tr>\n",
       "      <th>0</th>\n",
       "      <td>1</td>\n",
       "      <td>Newark Airport</td>\n",
       "      <td>EWR</td>\n",
       "      <td>0.688854</td>\n",
       "      <td>0.200048</td>\n",
       "      <td>0.049563</td>\n",
       "      <td>0.031605</td>\n",
       "      <td>0.029929</td>\n",
       "      <td>POLYGON((-74.1856319999999 40.6916479999999, -...</td>\n",
       "    </tr>\n",
       "    <tr>\n",
       "      <th>1</th>\n",
       "      <td>10</td>\n",
       "      <td>Baisley Park</td>\n",
       "      <td>Queens</td>\n",
       "      <td>0.688135</td>\n",
       "      <td>0.168873</td>\n",
       "      <td>0.043660</td>\n",
       "      <td>0.023588</td>\n",
       "      <td>0.075744</td>\n",
       "      <td>POLYGON((-73.7840990399998 40.6896477549999, -...</td>\n",
       "    </tr>\n",
       "    <tr>\n",
       "      <th>2</th>\n",
       "      <td>100</td>\n",
       "      <td>Garment District</td>\n",
       "      <td>Manhattan</td>\n",
       "      <td>0.721961</td>\n",
       "      <td>0.140109</td>\n",
       "      <td>0.043127</td>\n",
       "      <td>0.021325</td>\n",
       "      <td>0.073478</td>\n",
       "      <td>POLYGON((-73.986849911 40.7510816789999, -73.9...</td>\n",
       "    </tr>\n",
       "    <tr>\n",
       "      <th>3</th>\n",
       "      <td>101</td>\n",
       "      <td>Glen Oaks</td>\n",
       "      <td>Queens</td>\n",
       "      <td>0.835526</td>\n",
       "      <td>0.116228</td>\n",
       "      <td>0.019737</td>\n",
       "      <td>0.008772</td>\n",
       "      <td>0.019737</td>\n",
       "      <td>POLYGON((-73.7016221228549 40.7524255179464, -...</td>\n",
       "    </tr>\n",
       "    <tr>\n",
       "      <th>4</th>\n",
       "      <td>102</td>\n",
       "      <td>Glendale</td>\n",
       "      <td>Queens</td>\n",
       "      <td>0.736674</td>\n",
       "      <td>0.146055</td>\n",
       "      <td>0.029851</td>\n",
       "      <td>0.015991</td>\n",
       "      <td>0.071429</td>\n",
       "      <td>POLYGON((-73.8566771439998 40.7076918739999, -...</td>\n",
       "    </tr>\n",
       "    <tr>\n",
       "      <th>...</th>\n",
       "      <td>...</td>\n",
       "      <td>...</td>\n",
       "      <td>...</td>\n",
       "      <td>...</td>\n",
       "      <td>...</td>\n",
       "      <td>...</td>\n",
       "      <td>...</td>\n",
       "      <td>...</td>\n",
       "      <td>...</td>\n",
       "    </tr>\n",
       "    <tr>\n",
       "      <th>263</th>\n",
       "      <td>95</td>\n",
       "      <td>Forest Hills</td>\n",
       "      <td>Queens</td>\n",
       "      <td>0.755698</td>\n",
       "      <td>0.124741</td>\n",
       "      <td>0.032236</td>\n",
       "      <td>0.014747</td>\n",
       "      <td>0.072578</td>\n",
       "      <td>POLYGON((-73.8474631399999 40.7389520309999, -...</td>\n",
       "    </tr>\n",
       "    <tr>\n",
       "      <th>264</th>\n",
       "      <td>96</td>\n",
       "      <td>Forest Park/Highland Park</td>\n",
       "      <td>Queens</td>\n",
       "      <td>0.795527</td>\n",
       "      <td>0.089457</td>\n",
       "      <td>0.038339</td>\n",
       "      <td>0.003195</td>\n",
       "      <td>0.073482</td>\n",
       "      <td>POLYGON((-73.8382923549999 40.7083966169999, -...</td>\n",
       "    </tr>\n",
       "    <tr>\n",
       "      <th>265</th>\n",
       "      <td>97</td>\n",
       "      <td>Fort Greene</td>\n",
       "      <td>Brooklyn</td>\n",
       "      <td>0.730552</td>\n",
       "      <td>0.142612</td>\n",
       "      <td>0.039657</td>\n",
       "      <td>0.017979</td>\n",
       "      <td>0.069200</td>\n",
       "      <td>POLYGON((-73.9693556790001 40.6958547289999, -...</td>\n",
       "    </tr>\n",
       "    <tr>\n",
       "      <th>266</th>\n",
       "      <td>98</td>\n",
       "      <td>Fresh Meadows</td>\n",
       "      <td>Queens</td>\n",
       "      <td>0.771930</td>\n",
       "      <td>0.113060</td>\n",
       "      <td>0.035088</td>\n",
       "      <td>0.019493</td>\n",
       "      <td>0.060429</td>\n",
       "      <td>POLYGON((-73.7643149549999 40.7406726269999, -...</td>\n",
       "    </tr>\n",
       "    <tr>\n",
       "      <th>267</th>\n",
       "      <td>99</td>\n",
       "      <td>Freshkills Park</td>\n",
       "      <td>Staten Island</td>\n",
       "      <td>0.818182</td>\n",
       "      <td>0.090909</td>\n",
       "      <td>0.000000</td>\n",
       "      <td>0.000000</td>\n",
       "      <td>0.090909</td>\n",
       "      <td>POLYGON((-74.1680141819999 40.5880698669999, -...</td>\n",
       "    </tr>\n",
       "  </tbody>\n",
       "</table>\n",
       "<p>263 rows × 9 columns</p>\n",
       "</div>"
      ],
      "text/plain": [
       "    pickup_location_id  ...                                          zone_geom\n",
       "0                    1  ...  POLYGON((-74.1856319999999 40.6916479999999, -...\n",
       "1                   10  ...  POLYGON((-73.7840990399998 40.6896477549999, -...\n",
       "2                  100  ...  POLYGON((-73.986849911 40.7510816789999, -73.9...\n",
       "3                  101  ...  POLYGON((-73.7016221228549 40.7524255179464, -...\n",
       "4                  102  ...  POLYGON((-73.8566771439998 40.7076918739999, -...\n",
       "..                 ...  ...                                                ...\n",
       "263                 95  ...  POLYGON((-73.8474631399999 40.7389520309999, -...\n",
       "264                 96  ...  POLYGON((-73.8382923549999 40.7083966169999, -...\n",
       "265                 97  ...  POLYGON((-73.9693556790001 40.6958547289999, -...\n",
       "266                 98  ...  POLYGON((-73.7643149549999 40.7406726269999, -...\n",
       "267                 99  ...  POLYGON((-74.1680141819999 40.5880698669999, -...\n",
       "\n",
       "[263 rows x 9 columns]"
      ]
     },
     "execution_count": 34,
     "metadata": {},
     "output_type": "execute_result"
    }
   ],
   "source": [
    "query = \\\n",
    "\"\"\"\n",
    "select passenger_one_hot.pickup_location_id,\n",
    "\t   zone.zone_name,\n",
    "\t   zone.borough,\n",
    "\t   passenger_one_hot.passenger_1 / passenger_one_hot.total_trip as passenger_1,\n",
    "\t   passenger_one_hot.passenger_2 / passenger_one_hot.total_trip as passenger_2, \n",
    "\t   passenger_one_hot.passenger_3 / passenger_one_hot.total_trip as passenger_3,\n",
    "\t   passenger_one_hot.passenger_4 / passenger_one_hot.total_trip as passenger_4,\n",
    "\t   passenger_one_hot.passenger_other / passenger_one_hot.total_trip as passenger_other,\n",
    "\t   zone.zone_geom\n",
    "from(select pickup_location_id, \n",
    "\t\t\tsum(passenger_1) as passenger_1, \n",
    "\t\t\tsum(passenger_2) as passenger_2, \n",
    "\t\t\tsum(passenger_3) as passenger_3, \n",
    "\t\t\tsum(passenger_4) as passenger_4, \n",
    "\t\t\tsum(passenger_other) as passenger_other,\n",
    "\t\t\tcount(pickup_datetime) as total_trip\n",
    "\t\tfrom (select pickup_location_id, \n",
    "\t\t\t\t\t(case when passenger_count=1 then 1 else 0 end) as passenger_1,\n",
    "\t\t\t\t\t(case when passenger_count=2 then 1 else 0 end) as passenger_2,\n",
    "\t\t\t\t\t(case when passenger_count=3 then 1 else 0 end) as passenger_3,\n",
    "\t\t\t\t\t(case when passenger_count=4 then 1 else 0 end) as passenger_4,\n",
    "\t\t\t\t\t(case when passenger_count NOT IN (1,2,3,4) then 1 else 0 end) as passenger_other,\n",
    "\t\t\t\t\tpickup_datetime\n",
    "\t\t\t  from `bigquery-public-data.new_york_taxi_trips.tlc_yellow_trips_2017`\n",
    "\t\t\t  where pickup_location_id is not null and dropoff_location_id is not null) \n",
    "\t\tgroup by pickup_location_id) as passenger_one_hot\n",
    "left join `bigquery-public-data.new_york_taxi_trips.taxi_zone_geom` as zone\n",
    "on passenger_one_hot.pickup_location_id=zone.zone_id\n",
    "order by passenger_one_hot.pickup_location_id\n",
    "\"\"\"\n",
    "\n",
    "res = solution_with_query(query).dropna()\n",
    "res"
   ]
  },
  {
   "cell_type": "code",
   "execution_count": null,
   "metadata": {
    "colab": {
     "base_uri": "https://localhost:8080/",
     "height": 1000
    },
    "executionInfo": {
     "elapsed": 34549,
     "status": "ok",
     "timestamp": 1636500949857,
     "user": {
      "displayName": "정수희",
      "photoUrl": "https://lh3.googleusercontent.com/a/default-user=s64",
      "userId": "05838850196603126764"
     },
     "user_tz": -540
    },
    "id": "7E1XLMg7AsuH",
    "outputId": "489fb7c5-9821-4483-d04e-4b3a257ceba5"
   },
   "outputs": [],
   "source": [
    "show_problem_4_5_map(res)"
   ]
  },
  {
   "cell_type": "markdown",
   "metadata": {
    "id": "2z5UdRFYAse5"
   },
   "source": [
    "### 5) 도착구역에 따른 여행객 수의 비율\n",
    "- 출력 column : zone_id, zone_name, borough, passenger_1, passenger_2, passenger_3, passenger_4, passenger_other, zone_geom\n",
    "    - zone_id : 구역의 id\n",
    "    - zone_name : 구역이 이름\n",
    "    - borough : 구역의 속하는 지역\n",
    "    - cnt : 해당 구역에서 출발한 trip의 수\n",
    "    - passenger_1, passenger_2, passenger_3, passenger_4는 passenger_count에서 오며 각 element는 해당 zone에서 도착한 여행에서 해당 여행객수의 비율(1이하의 float)이다. passenger_other는 1\\~4 이외의 여행객 수(0, 5\\~9)에 대한 비율이다."
   ]
  },
  {
   "cell_type": "markdown",
   "metadata": {
    "id": "rXd0MMzkArol"
   },
   "source": [
    "✨ 출력 예시 - 데이터를 모두 읽어와 pandas에서 처리하는 경우"
   ]
  },
  {
   "cell_type": "code",
   "execution_count": null,
   "metadata": {
    "id": "ZPSx5OvgAxvB"
   },
   "outputs": [],
   "source": [
    "res = get_pessenger_with_zone('dropoff_location_id')\n",
    "res"
   ]
  },
  {
   "cell_type": "code",
   "execution_count": null,
   "metadata": {
    "id": "_esiwGbwAywk"
   },
   "outputs": [],
   "source": [
    "show_problem_4_5_map(res)"
   ]
  },
  {
   "cell_type": "markdown",
   "metadata": {
    "id": "m_A68zx6A0VN"
   },
   "source": [
    "✨ 실습 - 쿼리를 활용하여 문제를 해결해보자!"
   ]
  },
  {
   "cell_type": "code",
   "execution_count": null,
   "metadata": {
    "colab": {
     "base_uri": "https://localhost:8080/",
     "height": 437
    },
    "executionInfo": {
     "elapsed": 13587,
     "status": "ok",
     "timestamp": 1636500974417,
     "user": {
      "displayName": "정수희",
      "photoUrl": "https://lh3.googleusercontent.com/a/default-user=s64",
      "userId": "05838850196603126764"
     },
     "user_tz": -540
    },
    "id": "tdMzkLOZA1XU",
    "outputId": "4c47c683-3882-4315-c2ac-9f94bdcfcd25"
   },
   "outputs": [
    {
     "name": "stdout",
     "output_type": "stream",
     "text": [
      "WorkingTime[solution_with_query]: 13.052052736282349 sec\n"
     ]
    },
    {
     "data": {
      "text/html": [
       "<div>\n",
       "<style scoped>\n",
       "    .dataframe tbody tr th:only-of-type {\n",
       "        vertical-align: middle;\n",
       "    }\n",
       "\n",
       "    .dataframe tbody tr th {\n",
       "        vertical-align: top;\n",
       "    }\n",
       "\n",
       "    .dataframe thead th {\n",
       "        text-align: right;\n",
       "    }\n",
       "</style>\n",
       "<table border=\"1\" class=\"dataframe\">\n",
       "  <thead>\n",
       "    <tr style=\"text-align: right;\">\n",
       "      <th></th>\n",
       "      <th>dropoff_location_id</th>\n",
       "      <th>zone_name</th>\n",
       "      <th>borough</th>\n",
       "      <th>passenger_1</th>\n",
       "      <th>passenger_2</th>\n",
       "      <th>passenger_3</th>\n",
       "      <th>passenger_4</th>\n",
       "      <th>passenger_other</th>\n",
       "      <th>zone_geom</th>\n",
       "    </tr>\n",
       "  </thead>\n",
       "  <tbody>\n",
       "    <tr>\n",
       "      <th>0</th>\n",
       "      <td>1</td>\n",
       "      <td>Newark Airport</td>\n",
       "      <td>EWR</td>\n",
       "      <td>0.658885</td>\n",
       "      <td>0.185412</td>\n",
       "      <td>0.049842</td>\n",
       "      <td>0.025655</td>\n",
       "      <td>0.080206</td>\n",
       "      <td>POLYGON((-74.1856319999999 40.6916479999999, -...</td>\n",
       "    </tr>\n",
       "    <tr>\n",
       "      <th>1</th>\n",
       "      <td>10</td>\n",
       "      <td>Baisley Park</td>\n",
       "      <td>Queens</td>\n",
       "      <td>0.695126</td>\n",
       "      <td>0.157149</td>\n",
       "      <td>0.045192</td>\n",
       "      <td>0.022490</td>\n",
       "      <td>0.080043</td>\n",
       "      <td>POLYGON((-73.7840990399998 40.6896477549999, -...</td>\n",
       "    </tr>\n",
       "    <tr>\n",
       "      <th>2</th>\n",
       "      <td>100</td>\n",
       "      <td>Garment District</td>\n",
       "      <td>Manhattan</td>\n",
       "      <td>0.709450</td>\n",
       "      <td>0.146197</td>\n",
       "      <td>0.044887</td>\n",
       "      <td>0.023356</td>\n",
       "      <td>0.076110</td>\n",
       "      <td>POLYGON((-73.986849911 40.7510816789999, -73.9...</td>\n",
       "    </tr>\n",
       "    <tr>\n",
       "      <th>3</th>\n",
       "      <td>101</td>\n",
       "      <td>Glen Oaks</td>\n",
       "      <td>Queens</td>\n",
       "      <td>0.705487</td>\n",
       "      <td>0.155015</td>\n",
       "      <td>0.040474</td>\n",
       "      <td>0.020477</td>\n",
       "      <td>0.078547</td>\n",
       "      <td>POLYGON((-73.7016221228549 40.7524255179464, -...</td>\n",
       "    </tr>\n",
       "    <tr>\n",
       "      <th>4</th>\n",
       "      <td>102</td>\n",
       "      <td>Glendale</td>\n",
       "      <td>Queens</td>\n",
       "      <td>0.703414</td>\n",
       "      <td>0.153962</td>\n",
       "      <td>0.040651</td>\n",
       "      <td>0.021672</td>\n",
       "      <td>0.080301</td>\n",
       "      <td>POLYGON((-73.8566771439998 40.7076918739999, -...</td>\n",
       "    </tr>\n",
       "    <tr>\n",
       "      <th>...</th>\n",
       "      <td>...</td>\n",
       "      <td>...</td>\n",
       "      <td>...</td>\n",
       "      <td>...</td>\n",
       "      <td>...</td>\n",
       "      <td>...</td>\n",
       "      <td>...</td>\n",
       "      <td>...</td>\n",
       "      <td>...</td>\n",
       "    </tr>\n",
       "    <tr>\n",
       "      <th>260</th>\n",
       "      <td>95</td>\n",
       "      <td>Forest Hills</td>\n",
       "      <td>Queens</td>\n",
       "      <td>0.712800</td>\n",
       "      <td>0.147851</td>\n",
       "      <td>0.039416</td>\n",
       "      <td>0.017570</td>\n",
       "      <td>0.082363</td>\n",
       "      <td>POLYGON((-73.8474631399999 40.7389520309999, -...</td>\n",
       "    </tr>\n",
       "    <tr>\n",
       "      <th>261</th>\n",
       "      <td>96</td>\n",
       "      <td>Forest Park/Highland Park</td>\n",
       "      <td>Queens</td>\n",
       "      <td>0.731919</td>\n",
       "      <td>0.138380</td>\n",
       "      <td>0.034233</td>\n",
       "      <td>0.017358</td>\n",
       "      <td>0.078110</td>\n",
       "      <td>POLYGON((-73.8382923549999 40.7083966169999, -...</td>\n",
       "    </tr>\n",
       "    <tr>\n",
       "      <th>262</th>\n",
       "      <td>97</td>\n",
       "      <td>Fort Greene</td>\n",
       "      <td>Brooklyn</td>\n",
       "      <td>0.723809</td>\n",
       "      <td>0.145152</td>\n",
       "      <td>0.037856</td>\n",
       "      <td>0.016460</td>\n",
       "      <td>0.076723</td>\n",
       "      <td>POLYGON((-73.9693556790001 40.6958547289999, -...</td>\n",
       "    </tr>\n",
       "    <tr>\n",
       "      <th>263</th>\n",
       "      <td>98</td>\n",
       "      <td>Fresh Meadows</td>\n",
       "      <td>Queens</td>\n",
       "      <td>0.720061</td>\n",
       "      <td>0.143515</td>\n",
       "      <td>0.036043</td>\n",
       "      <td>0.019374</td>\n",
       "      <td>0.081006</td>\n",
       "      <td>POLYGON((-73.7643149549999 40.7406726269999, -...</td>\n",
       "    </tr>\n",
       "    <tr>\n",
       "      <th>264</th>\n",
       "      <td>99</td>\n",
       "      <td>Freshkills Park</td>\n",
       "      <td>Staten Island</td>\n",
       "      <td>0.704918</td>\n",
       "      <td>0.131148</td>\n",
       "      <td>0.049180</td>\n",
       "      <td>0.000000</td>\n",
       "      <td>0.114754</td>\n",
       "      <td>POLYGON((-74.1680141819999 40.5880698669999, -...</td>\n",
       "    </tr>\n",
       "  </tbody>\n",
       "</table>\n",
       "<p>260 rows × 9 columns</p>\n",
       "</div>"
      ],
      "text/plain": [
       "    dropoff_location_id  ...                                          zone_geom\n",
       "0                     1  ...  POLYGON((-74.1856319999999 40.6916479999999, -...\n",
       "1                    10  ...  POLYGON((-73.7840990399998 40.6896477549999, -...\n",
       "2                   100  ...  POLYGON((-73.986849911 40.7510816789999, -73.9...\n",
       "3                   101  ...  POLYGON((-73.7016221228549 40.7524255179464, -...\n",
       "4                   102  ...  POLYGON((-73.8566771439998 40.7076918739999, -...\n",
       "..                  ...  ...                                                ...\n",
       "260                  95  ...  POLYGON((-73.8474631399999 40.7389520309999, -...\n",
       "261                  96  ...  POLYGON((-73.8382923549999 40.7083966169999, -...\n",
       "262                  97  ...  POLYGON((-73.9693556790001 40.6958547289999, -...\n",
       "263                  98  ...  POLYGON((-73.7643149549999 40.7406726269999, -...\n",
       "264                  99  ...  POLYGON((-74.1680141819999 40.5880698669999, -...\n",
       "\n",
       "[260 rows x 9 columns]"
      ]
     },
     "execution_count": 36,
     "metadata": {},
     "output_type": "execute_result"
    }
   ],
   "source": [
    "query = \\\n",
    "\"\"\"\n",
    "select passenger_one_hot.dropoff_location_id,\n",
    "\t   zone.zone_name,\n",
    "\t   zone.borough,\n",
    "\t   passenger_one_hot.passenger_1 / passenger_one_hot.total_trip as passenger_1,\n",
    "\t   passenger_one_hot.passenger_2 / passenger_one_hot.total_trip as passenger_2, \n",
    "\t   passenger_one_hot.passenger_3 / passenger_one_hot.total_trip as passenger_3,\n",
    "\t   passenger_one_hot.passenger_4 / passenger_one_hot.total_trip as passenger_4,\n",
    "\t   passenger_one_hot.passenger_other / passenger_one_hot.total_trip as passenger_other,\n",
    "\t   zone.zone_geom\n",
    "from(select dropoff_location_id, \n",
    "\t\t\tsum(passenger_1) as passenger_1, \n",
    "\t\t\tsum(passenger_2) as passenger_2, \n",
    "\t\t\tsum(passenger_3) as passenger_3, \n",
    "\t\t\tsum(passenger_4) as passenger_4, \n",
    "\t\t\tsum(passenger_other) as passenger_other,\n",
    "\t\t\tcount(pickup_datetime) as total_trip\n",
    "\t\tfrom (select dropoff_location_id, \n",
    "\t\t\t\t\t(case when passenger_count=1 then 1 else 0 end) as passenger_1,\n",
    "\t\t\t\t\t(case when passenger_count=2 then 1 else 0 end) as passenger_2,\n",
    "\t\t\t\t\t(case when passenger_count=3 then 1 else 0 end) as passenger_3,\n",
    "\t\t\t\t\t(case when passenger_count=4 then 1 else 0 end) as passenger_4,\n",
    "\t\t\t\t\t(case when passenger_count NOT IN (1,2,3,4) then 1 else 0 end) as passenger_other,\n",
    "\t\t\t\t\tpickup_datetime\n",
    "\t\t\t  from `bigquery-public-data.new_york_taxi_trips.tlc_yellow_trips_2017`\n",
    "\t\t\t  where dropoff_location_id is not null and dropoff_location_id is not null) \n",
    "\t\tgroup by dropoff_location_id) as passenger_one_hot\n",
    "left join `bigquery-public-data.new_york_taxi_trips.taxi_zone_geom` as zone\n",
    "on passenger_one_hot.dropoff_location_id=zone.zone_id\n",
    "order by passenger_one_hot.dropoff_location_id\n",
    "\"\"\"\n",
    "\n",
    "res = solution_with_query(query).dropna()\n",
    "res"
   ]
  },
  {
   "cell_type": "code",
   "execution_count": null,
   "metadata": {
    "colab": {
     "base_uri": "https://localhost:8080/",
     "height": 1000
    },
    "executionInfo": {
     "elapsed": 33877,
     "status": "ok",
     "timestamp": 1636501009269,
     "user": {
      "displayName": "정수희",
      "photoUrl": "https://lh3.googleusercontent.com/a/default-user=s64",
      "userId": "05838850196603126764"
     },
     "user_tz": -540
    },
    "id": "_6BHDHYDDVa-",
    "outputId": "39afecdf-a73a-4177-9bb3-1cee4ae88e0a"
   },
   "outputs": [],
   "source": [
    "show_problem_4_5_map(res)"
   ]
  },
  {
   "cell_type": "markdown",
   "metadata": {
    "id": "tNZPCtJ2A31j"
   },
   "source": [
    "## 회고\n",
    "---"
   ]
  },
  {
   "cell_type": "markdown",
   "metadata": {
    "id": "F9N9PJx0A4yS"
   },
   "source": [
    "### 1) 이번주차의 실습과정에서 알게 된 것은 무엇인가요?\n",
    "> (내용을 입력하여 주세요)"
   ]
  },
  {
   "cell_type": "markdown",
   "metadata": {
    "id": "V0pKLvw2A8C7"
   },
   "source": [
    "### 2) 실습과정에서 느낀 pandas로의 데이터처리와 SQL을 이용한 데이터처리의 장단점은 무엇인가요?\n",
    "> (내용을 입력하여 주세요)"
   ]
  },
  {
   "cell_type": "markdown",
   "metadata": {
    "id": "3erm77tIA9LP"
   },
   "source": [
    "### 3) 느낀점\n",
    "> (내용을 입력하여 주세요)"
   ]
  }
 ],
 "metadata": {
  "colab": {
   "authorship_tag": "ABX9TyO1L4uqeQ9v93qPC3EsSKEv",
   "name": "DUDI-WEEK4 : SQL with Python - BigQuery - solution",
   "provenance": []
  },
  "kernelspec": {
   "display_name": "Python 3 (ipykernel)",
   "language": "python",
   "name": "python3"
  },
  "language_info": {
   "codemirror_mode": {
    "name": "ipython",
    "version": 3
   },
   "file_extension": ".py",
   "mimetype": "text/x-python",
   "name": "python",
   "nbconvert_exporter": "python",
   "pygments_lexer": "ipython3",
   "version": "3.7.10"
  },
  "latex_envs": {
   "LaTeX_envs_menu_present": true,
   "autoclose": false,
   "autocomplete": true,
   "bibliofile": "biblio.bib",
   "cite_by": "apalike",
   "current_citInitial": 1,
   "eqLabelWithNumbers": true,
   "eqNumInitial": 1,
   "hotkeys": {
    "equation": "Ctrl-E",
    "itemize": "Ctrl-I"
   },
   "labels_anchors": false,
   "latex_user_defs": false,
   "report_style_numbering": false,
   "user_envs_cfg": false
  }
 },
 "nbformat": 4,
 "nbformat_minor": 1
}
